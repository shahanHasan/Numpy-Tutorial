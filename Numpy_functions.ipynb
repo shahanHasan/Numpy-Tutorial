{
 "cells": [
  {
   "cell_type": "code",
   "execution_count": 1,
   "metadata": {},
   "outputs": [
    {
     "name": "stdout",
     "output_type": "stream",
     "text": [
      "[[ 0  1  2  3  4]\n",
      " [ 5  6  7  8  9]\n",
      " [10 11 12 13 14]]\n",
      "(3, 5)\n",
      "2\n",
      "int64\n",
      "8\n",
      "<memory at 0x7f2cf55a7910>\n",
      "15\n",
      "<class 'numpy.ndarray'>\n"
     ]
    },
    {
     "data": {
      "text/plain": [
       "numpy.ndarray"
      ]
     },
     "execution_count": 1,
     "metadata": {},
     "output_type": "execute_result"
    }
   ],
   "source": [
    "import numpy as np\n",
    "\"\"\"\n",
    "NumPy’s main object is the homogeneous multidimensional array. It is a table of elements (usually numbers), \n",
    "all of the same type, indexed by a tuple of non-negative integers. In NumPy dimensions are called axes.\n",
    "the array has 2 axes. The first axis has a length of 2, the second axis has a length of 3.\n",
    "e.g \n",
    "[[ 1., 0., 0.],\n",
    " [ 0., 1., 2.]]\n",
    "NumPy’s array class is called ndarray. It is also known by the alias array. Note that numpy.array is not the \n",
    "same as the Standard Python Library class array.array, which only handles one-dimensional arrays and offers less \n",
    "functionality. The more important attributes of an ndarray object are:\n",
    "\"\"\"\n",
    "a = np.arange(15).reshape(3,5)#arange an array of 15 random numbers. Reshape (row,column)\n",
    "print(a)\n",
    "print(a.shape) #returns shape of the ndarray , (row,column).\n",
    "print(a.ndim) # n dimentions. \n",
    "print(a.dtype.name) # data type of the elements of the array.\n",
    "print(a.itemsize) #the size in bytes of each element of the array.\n",
    "print(a.data) #the buffer containing the actual elements of the array ADDRESS in memory.\n",
    "print(a.size) #number of elements of row * column.\n",
    "print(type(a))\n",
    "b = np.array([5,6,7])\n",
    "type(b)"
   ]
  },
  {
   "cell_type": "code",
   "execution_count": 2,
   "metadata": {},
   "outputs": [
    {
     "name": "stdout",
     "output_type": "stream",
     "text": [
      "[[1.4 2.  5. ]\n",
      " [5.  6.  7. ]\n",
      " [1.  2.  3. ]]\n",
      "[list([7, 8]) list([[1, 2], [3, 4], [5, 6]])]\n",
      "\n",
      "\n",
      "[[[1 2 3]\n",
      "  [1 2 3]\n",
      "  [1 2 3]\n",
      "  [1 2 3]]]\n",
      "(1, 4, 3)\n",
      "3\n",
      "int64\n",
      "8\n",
      "<memory at 0x7f2cd7ecf550>\n",
      "12\n",
      "<class 'numpy.ndarray'>\n"
     ]
    }
   ],
   "source": [
    "import numpy as np\n",
    "#Array Creation\n",
    "\"\"\"\n",
    "For example, you can create an array from a regular Python list or tuple using the array function. \n",
    "The type of the resulting array is deduced from the type of the elements in the sequences.\n",
    "\"\"\"\n",
    "a = np.array([2,3,4])\n",
    "a.dtype\n",
    "b = np.array([1.2,3.5,5.1])\n",
    "b.dtype\n",
    "\"\"\"\n",
    "array transforms sequences of sequences into two-dimensional arrays, sequences of sequences of \n",
    "sequences into three-dimensional arrays, and so on\n",
    "\"\"\"\n",
    "b =  np.array([[1.4,2,5],[5,6,7], [1,2,3]])\n",
    "b.dtype\n",
    "print(b)\n",
    "#The type of the array can also be explicitly specified at creation time:\n",
    "c = np.array([[1,2],[3,4]], dtype = complex)\n",
    "c\n",
    "\"\"\"\n",
    "VisibleDeprecationWarning: Creating an ndarray from ragged nested sequences (which is a list-or-tuple of lists\n",
    "-or-tuples-or ndarrays with different lengths or shapes) is deprecated. If you meant to do this, you must \n",
    "specify 'dtype=object' when creating the ndarray\n",
    "\"\"\"\n",
    "b = np.array([[7,8],[[1,2],[3,4],[5,6]]],dtype = object)\n",
    "print(b)\n",
    "print(\"\\n\")\n",
    "#3D array \"here\n",
    "a = np.array([[[1,2,3],[1,2,3],[1,2,3],[1,2,3]]])\n",
    "print(a)\n",
    "\n",
    "print(a.shape) #returns shape of the ndarray , (...depth,row,column).\n",
    "print(a.ndim) # n dimentions. \n",
    "print(a.dtype.name) # data type of the elements of the array.\n",
    "print(a.itemsize) #the size in bytes of each element of the array.\n",
    "print(a.data) #the buffer containing the actual elements of the array ADDRESS in memory.\n",
    "print(a.size) #number of elements of row * column.\n",
    "print(type(a))"
   ]
  },
  {
   "cell_type": "code",
   "execution_count": 3,
   "metadata": {},
   "outputs": [
    {
     "name": "stdout",
     "output_type": "stream",
     "text": [
      "[[[1 1 1 1]\n",
      "  [1 1 1 1]\n",
      "  [1 1 1 1]]\n",
      "\n",
      " [[1 1 1 1]\n",
      "  [1 1 1 1]\n",
      "  [1 1 1 1]]]\n",
      "\n",
      "\n",
      "[[4.6548229e-310 0.0000000e+000 4.9406565e-324]\n",
      " [0.0000000e+000 0.0000000e+000 0.0000000e+000]]\n",
      "<class 'numpy.ndarray'>\n",
      "<class 'numpy.ndarray'>\n"
     ]
    }
   ],
   "source": [
    "import numpy as np\n",
    "from numpy import pi\n",
    "\"\"\"\n",
    "Often, the elements of an array are originally unknown,\n",
    "but its size is known. Hence, NumPy offers several \n",
    "functions to create arrays with initial placeholder \n",
    "content. These minimize the necessity of growing \n",
    "arrays, an expensive operation.\n",
    "\n",
    "The function zeros creates an array full of zeros, \n",
    "the function ones creates an array full of ones, and \n",
    "the function empty creates an array whose initial content is random and \n",
    "depends on the state of the memory. \n",
    "By default, the dtype of the created array is float64.\n",
    "\"\"\"\n",
    "a = np.zeros((3, 4))#2D , rows(y), columns(x)\n",
    "#print(a)\n",
    "b = np.ones((2,3,4), dtype=np.int16)#3D depth(z), row(y), column(x)\n",
    "print(b)\n",
    "print(\"\\n\")\n",
    "b_1 = np.ones((3,2,3,4), dtype=np.int16)\n",
    "#print(b_1)\n",
    "c = np.empty((2,3))# uninitialized\n",
    "print(c)#2D\n",
    "\n",
    "\"\"\"\n",
    "To create sequences of numbers, NumPy provides \n",
    "the arange function which is analogous to the \n",
    "Python built-in range, but returns an array.\n",
    "\"\"\"\n",
    "np.arange(10,30,5)#start , stop , step\n",
    "np.arange(0, 2 ,0.3)# it accepts float arguments\n",
    "\"\"\"\n",
    "When arange is used with floating point arguments, it is generally not \n",
    "possible to predict the number of elements obtained, due to the finite \n",
    "floating point precision. For this reason, it is usually better to use \n",
    "the function linspace that receives as an argument the number of elements \n",
    "that we want, instead of the step.\n",
    "\"\"\"\n",
    "np.linspace(0,2,9)# 9 numbers from 0 to 2\n",
    "x = np.linspace(0, 2*pi, 100)#useful to evaluate function at lots of points\n",
    "print(type(x))\n",
    "f = np.sin(x)\n",
    "print(type(f))"
   ]
  },
  {
   "cell_type": "code",
   "execution_count": 4,
   "metadata": {},
   "outputs": [
    {
     "name": "stdout",
     "output_type": "stream",
     "text": [
      "[0 1 2 3 4 5]\n",
      "\n",
      "[[ 0  1  2]\n",
      " [ 3  4  5]\n",
      " [ 6  7  8]\n",
      " [ 9 10 11]]\n",
      "\n",
      "[[[ 0  1  2]\n",
      "  [ 3  4  5]\n",
      "  [ 6  7  8]\n",
      "  [ 9 10 11]]\n",
      "\n",
      " [[12 13 14]\n",
      "  [15 16 17]\n",
      "  [18 19 20]\n",
      "  [21 22 23]]]\n",
      "\n",
      "[[[[ 0  1  2]\n",
      "   [ 3  4  5]\n",
      "   [ 6  7  8]\n",
      "   [ 9 10 11]]\n",
      "\n",
      "  [[12 13 14]\n",
      "   [15 16 17]\n",
      "   [18 19 20]\n",
      "   [21 22 23]]]\n",
      "\n",
      "\n",
      " [[[24 25 26]\n",
      "   [27 28 29]\n",
      "   [30 31 32]\n",
      "   [33 34 35]]\n",
      "\n",
      "  [[36 37 38]\n",
      "   [39 40 41]\n",
      "   [42 43 44]\n",
      "   [45 46 47]]]]\n"
     ]
    }
   ],
   "source": [
    "#Printing arrays\n",
    "\"\"\"\n",
    "When you print an array, NumPy displays it in a similar way to nested \n",
    "lists, but with the following layout:\n",
    "\n",
    "1. The last axis is printed from left to right,\n",
    "\n",
    "2. The second-to-last is printed from top to bottom,\n",
    "\n",
    "3. The rest are also printed from top to bottom, with each slice separated \n",
    "from the next by an empty line.\n",
    "\"\"\"\n",
    "#One-dimensional arrays are then printed as rows, bidimensionals as matrices and tridimensionals as lists of matrices.\n",
    "a = np.arange(6) #1D array as list\n",
    "print(a)\n",
    "print()\n",
    "b = np.arange(12).reshape(4,3) #2D array as matrices\n",
    "print(b)\n",
    "print()\n",
    "\n",
    "c = np.arange(24).reshape(2,4,3) #3D array as list of matrices\n",
    "print(c)\n",
    "print()\n",
    "\n",
    "d = np.arange(48).reshape(2,2,4,3) #4D or more as list of list of matrices\n",
    "print(d)"
   ]
  },
  {
   "cell_type": "code",
   "execution_count": 5,
   "metadata": {},
   "outputs": [
    {
     "name": "stdout",
     "output_type": "stream",
     "text": [
      "[   0    1    2 ... 9997 9998 9999]\n",
      "[[   0    1    2 ...   97   98   99]\n",
      " [ 100  101  102 ...  197  198  199]\n",
      " [ 200  201  202 ...  297  298  299]\n",
      " ...\n",
      " [9700 9701 9702 ... 9797 9798 9799]\n",
      " [9800 9801 9802 ... 9897 9898 9899]\n",
      " [9900 9901 9902 ... 9997 9998 9999]]\n"
     ]
    }
   ],
   "source": [
    "\"\"\"\n",
    "If an array is too large to be printed, NumPy automatically skips the central part of \n",
    "the array and only prints the corners:\n",
    "\"\"\"\n",
    "print(np.arange(10000))\n",
    "print(np.arange(10000).reshape(100,100))\n",
    "#print(np.arange(1000000).reshape(100,100,100))\n",
    "\"\"\"\n",
    "To disable this behaviour and force NumPy to print the entire array, you can change the printing \n",
    "options using set_printoptions.\n",
    "\"\"\"\n",
    "import sys\n",
    "#np.set_printoptions(threshold=sys.maxsize)"
   ]
  },
  {
   "cell_type": "code",
   "execution_count": 6,
   "metadata": {},
   "outputs": [
    {
     "name": "stdout",
     "output_type": "stream",
     "text": [
      "[20 30 40 50]\n",
      "[0 1 2 3]\n",
      "[20 29 38 47]\n",
      "[20 31 42 53]\n",
      "[ 400  900 1600 2500]\n",
      "[ 2.23716094 -6.4053312  -1.11721493 -0.27190061]\n",
      "[ 2.23716094 -6.4053312  -1.11721493 -0.27190061]\n"
     ]
    },
    {
     "data": {
      "text/plain": [
       "array([ True,  True, False, False])"
      ]
     },
     "execution_count": 6,
     "metadata": {},
     "output_type": "execute_result"
    }
   ],
   "source": [
    "#array returns a list as ndarray\n",
    "a = np.array([20,30,40,50])\n",
    "print(a)\n",
    "#arange returns an nd array of parameter size\n",
    "b = np.arange(4)\n",
    "print(b)\n",
    "\n",
    "subT = a-b\n",
    "print(subT)\n",
    "ADDT = a+b\n",
    "print(ADDT)\n",
    "poweR = a**2\n",
    "print(poweR)\n",
    "TrigRatios = (10*np.sin(a))/(10*np.cos(a))\n",
    "print(TrigRatios)\n",
    "tan_a = np.tan(a)\n",
    "print(tan_a)\n",
    "\n",
    "a<34"
   ]
  },
  {
   "cell_type": "code",
   "execution_count": 7,
   "metadata": {},
   "outputs": [
    {
     "name": "stdout",
     "output_type": "stream",
     "text": [
      "[[2 0]\n",
      " [0 4]]\n",
      "[[5 4]\n",
      " [3 4]]\n",
      "[[5 4]\n",
      " [3 4]]\n"
     ]
    }
   ],
   "source": [
    "\"\"\"\n",
    "MATRIX CALCULATION\n",
    "\n",
    "Unlike in many matrix languages, the product operator * operates elementwise in NumPy\n",
    "arrays. The matrix product can be performed using the @ operator (in python >=3.5) or \n",
    "the dot function or method:\n",
    "\"\"\"\n",
    "\n",
    "a = np.array([ [1,1],\n",
    "               [0,1] ])\n",
    "b = np.array([ [2,0],\n",
    "               [3,4] ])\n",
    "Element_wise_multiplication = a * b\n",
    "print(Element_wise_multiplication)\n",
    "Matrix_product = a @ b\n",
    "print(Matrix_product)\n",
    "Matrix_dot_product = a.dot(b)\n",
    "print(Matrix_dot_product)"
   ]
  },
  {
   "cell_type": "code",
   "execution_count": 8,
   "metadata": {},
   "outputs": [
    {
     "name": "stdout",
     "output_type": "stream",
     "text": [
      "Generator(PCG64)\n",
      "<class 'numpy.random._generator.Generator'>\n",
      "[[1 1 1]\n",
      " [1 1 1]]\n",
      "<class 'numpy.ndarray'>\n",
      "int32\n",
      "[[0.51182162 0.9504637  0.14415961]\n",
      " [0.94864945 0.31183145 0.42332645]]\n",
      "<class 'numpy.ndarray'>\n",
      "float64\n",
      "(2, 3),2\n",
      "(2, 3), 2\n",
      "[[3 3 3]\n",
      " [3 3 3]]\n",
      "[[3.51182162 3.9504637  3.14415961]\n",
      " [3.94864945 3.31183145 3.42332645]]\n",
      "[[6.51182162 6.9504637  6.14415961]\n",
      " [6.94864945 6.31183145 6.42332645]]\n"
     ]
    }
   ],
   "source": [
    "\"\"\"\n",
    "Some operations, such as += and *=, act in place to modify an existing\n",
    "array rather than create a new one.\n",
    "\"\"\"\n",
    "#Create instance of default random number generator\n",
    "random_generator = np.random.default_rng(1)\n",
    "print(random_generator)\n",
    "print(type(random_generator))\n",
    "a = np.ones((2,3), dtype=np.int32)\n",
    "print(a)\n",
    "print(type(a))\n",
    "print(a.dtype)\n",
    "b = random_generator.random((2,3))\n",
    "print(b)\n",
    "print(type(b))\n",
    "print(b.dtype)\n",
    "\n",
    "print(\"{},{}\".format(a.shape,a.ndim)) #Format()\n",
    "print(f\"{b.shape}, {b.ndim}\")#F String\n",
    "\n",
    "#Assignment operators:\n",
    "a *= 3\n",
    "b += a \n",
    "print(a)\n",
    "print(b)\n",
    "print(f\"{b + a}\")"
   ]
  },
  {
   "cell_type": "code",
   "execution_count": 9,
   "metadata": {},
   "outputs": [
    {
     "name": "stdout",
     "output_type": "stream",
     "text": [
      "<class 'numpy.ndarray'> <class 'numpy.ndarray'>\n",
      "float64\n",
      "\n",
      "[1.         2.57079633 4.14159265]\n",
      "\n",
      "[0.+1.j         0.+2.57079633j 0.+4.14159265j]\n",
      "\n",
      "<class 'numpy.ndarray'> float64\n",
      "<class 'numpy.ndarray'> complex128\n",
      "[ 0.54030231+0.84147098j -0.84147098+0.54030231j -0.54030231-0.84147098j]\n"
     ]
    }
   ],
   "source": [
    "#UPCASTING\n",
    "\"\"\"\n",
    "When operating with arrays of different types, the type of \n",
    "the resulting array corresponds to the more\n",
    "general or precise one (a behavior known as upcasting).\n",
    "\"\"\"\n",
    "import math\n",
    "a = np.ones(3, dtype=np.int32) #column, dtype\n",
    "b = np.linspace(0, math.pi ,3)\n",
    "print(f\"{type(a)} {type(b)}\")\n",
    "print(b.dtype.name)\n",
    "\n",
    "c = a+b\n",
    "\n",
    "d = c * 1j\n",
    "print()\n",
    "print(c)\n",
    "print()\n",
    "print(d)\n",
    "print()\n",
    "print(f\"{type(c)} {c.dtype.name}\")\n",
    "print(f\"{type(d)} {d.dtype.name}\")\n",
    "\n",
    "#An array with exponential of all elements of input array.\n",
    "#numpy.exp(array, out = None, where = True, casting = ‘same_kind’, order = ‘K’, dtype = None) :\n",
    "\n",
    "d = np.exp(d)\n",
    "print(d)"
   ]
  },
  {
   "cell_type": "code",
   "execution_count": 10,
   "metadata": {},
   "outputs": [
    {
     "name": "stdout",
     "output_type": "stream",
     "text": [
      "[[0.82770259 0.40919914 0.54959369]\n",
      " [0.02755911 0.75351311 0.53814331]] \n",
      "<class 'numpy.ndarray'> float64\n",
      "3.1057109529998157\n",
      "0.027559113243068367\n",
      "0.8277025938204418\n",
      "[[ 0  1  2  3]\n",
      " [ 4  5  6  7]\n",
      " [ 8  9 10 11]]\n",
      "\n",
      "[12 15 18 21]\n",
      "[0 1 2 3] [ 8  9 10 11]\n",
      "\n",
      "[ 6 22 38]\n",
      "[0 4 8] [ 3  7 11]\n",
      "\n",
      "[[ 0  1  3  6]\n",
      " [ 4  9 15 22]\n",
      " [ 8 17 27 38]]\n",
      "\n",
      "[[ 0  1  2  3]\n",
      " [ 4  6  8 10]\n",
      " [12 15 18 21]]\n"
     ]
    }
   ],
   "source": [
    "\"\"\"\n",
    "Many unary operations, such as computing the sum of all the elements \n",
    "in the array, are implemented as methods of the ndarray class.\n",
    "\"\"\"\n",
    "a = random_generator.random((2,3))\n",
    "print(f\"{a} \\n{type(a)} {a.dtype.name}\")\n",
    "\n",
    "#SUM\n",
    "print(a.sum())\n",
    "\n",
    "#MIN\n",
    "print(a.min())\n",
    "\n",
    "#MAX\n",
    "print(a.max())\n",
    "\n",
    "\n",
    "\"\"\"\n",
    "By default, these operations apply to the array as though it were a list of numbers, regardless of its \n",
    "shape. However, by specifying the axis parameter you can apply an operation along the specified axis \n",
    "of an array:\n",
    "\"\"\"\n",
    "b =np.arange(12).reshape(3,4)\n",
    "print(b)\n",
    "print()\n",
    "\n",
    "#SUM,MIN,MAX... ALONG COLUMN\n",
    "print(b.sum(axis=0))\n",
    "print(f\"{b.min(axis=0)} {b.max(axis=0)}\")\n",
    "print()\n",
    "\n",
    "#SUM,MIN,MAX.... ALONG ROW\n",
    "print(b.sum(axis=1))\n",
    "print(f\"{b.min(axis=1)} {b.max(axis=1)}\")\n",
    "print()\n",
    "\n",
    "#CUMULATIVE SUM ALONG MENTIONED AXIS\n",
    "print(b.cumsum(axis=1))\n",
    "print()\n",
    "print(b.cumsum(axis=0))"
   ]
  },
  {
   "cell_type": "code",
   "execution_count": 11,
   "metadata": {},
   "outputs": [
    {
     "name": "stdout",
     "output_type": "stream",
     "text": [
      "[0 1 2]\n",
      "\n",
      "[1.         2.71828183 7.3890561 ] \n",
      "[0.         1.         1.41421356] \n",
      "[ 1 -3 10]\n"
     ]
    },
    {
     "data": {
      "text/plain": [
       "'\\nOTHER UFUNCS INCLUDE :\\n\\nall, any, apply_along_axis, argmax, argmin, argsort, \\naverage, bincount, ceil, clip, conj, corrcoef, cov, \\ncross, cumprod, cumsum, diff, dot, floor, inner, \\ninvert, lexsort, max, maximum, mean, median, min, \\nminimum, nonzero, outer, prod, re, round, sort, std, \\nsum, trace, transpose, var, vdot, vectorize, where\\n\\nhttps://numpy.org/devdocs/user/quickstart.html#quickstart-shape-manipulation\\n'"
      ]
     },
     "execution_count": 11,
     "metadata": {},
     "output_type": "execute_result"
    }
   ],
   "source": [
    "#UNIVERSAL FUNCTIONS ->\n",
    "\"\"\"\n",
    "NumPy provides familiar mathematical functions such as sin, cos, and exp.\n",
    "In NumPy, these are called “universal functions”(ufunc). Within NumPy, these \n",
    "functions operate elementwise on an array, producing an array as output.\n",
    "\"\"\"\n",
    "b = np.arange(3)\n",
    "c = np.array([1,-4,8])\n",
    "print(b)\n",
    "print()\n",
    "print(f\"{np.exp(b)} \\n{np.sqrt(b)} \\n{np.add(b,c)}\")\n",
    "\n",
    "\"\"\"\n",
    "OTHER UFUNCS INCLUDE :\n",
    "\n",
    "all, any, apply_along_axis, argmax, argmin, argsort, \n",
    "average, bincount, ceil, clip, conj, corrcoef, cov, \n",
    "cross, cumprod, cumsum, diff, dot, floor, inner, \n",
    "invert, lexsort, max, maximum, mean, median, min, \n",
    "minimum, nonzero, outer, prod, re, round, sort, std, \n",
    "sum, trace, transpose, var, vdot, vectorize, where\n",
    "\n",
    "https://numpy.org/devdocs/user/quickstart.html#quickstart-shape-manipulation\n",
    "\"\"\""
   ]
  },
  {
   "cell_type": "code",
   "execution_count": 12,
   "metadata": {},
   "outputs": [
    {
     "name": "stdout",
     "output_type": "stream",
     "text": [
      "[  0   1   8  27  64 125 216 343 512 729]\n",
      "8\n",
      "[ 8 27 64]\n",
      "[1000    1 1000   27 1000  125  216  343  512  729]\n",
      "[ 729  512  343  216  125 1000   27 1000    1 1000]\n",
      "9.999999999999998\n",
      "1.0\n",
      "9.999999999999998\n",
      "3.0\n",
      "9.999999999999998\n",
      "4.999999999999999\n",
      "5.999999999999999\n",
      "6.999999999999999\n",
      "7.999999999999999\n",
      "8.999999999999998\n"
     ]
    }
   ],
   "source": [
    "\"\"\"\n",
    "Indexing, Slicing and Iterating\n",
    "One-dimensional arrays can be indexed, sliced and iterated over, much like \n",
    "lists and other Python sequences.\n",
    "\"\"\"\n",
    "a = np.arange(10)**3\n",
    "print(a)\n",
    "print(a[2])\n",
    "print(a[2:5])\n",
    "# equivalent to a[0:6:2] = 1000;\n",
    "# from start to position 6, exclusive, set every 2nd element to 1000\n",
    "a[:6:2] = 1000\n",
    "print(a)\n",
    "print(a[ : :-1])#Reversed\n",
    "for i in a:\n",
    "    print(i**(1/3.))"
   ]
  },
  {
   "cell_type": "code",
   "execution_count": 13,
   "metadata": {
    "scrolled": false
   },
   "outputs": [
    {
     "name": "stdout",
     "output_type": "stream",
     "text": [
      "[[ 0  1  2  3]\n",
      " [10 11 12 13]\n",
      " [20 21 22 23]\n",
      " [30 31 32 33]\n",
      " [40 41 42 43]]\n",
      "13\n",
      "[ 1 11 21 31 41]\n",
      "[ 1 11 21 31 41]\n",
      "\n",
      "[[10 11 12 13]\n",
      " [20 21 22 23]]\n",
      "\n",
      "[40 41 42 43]\n"
     ]
    }
   ],
   "source": [
    "\"\"\"\n",
    "Multidimensional arrays can have one index per axis. \n",
    "These indices are given in a tuple separated by commas:\n",
    "\"\"\"\n",
    "def f(x,y):\n",
    "    return 10*x+y\n",
    "\n",
    "b = np.fromfunction(f,(5,4), dtype=int)\n",
    "print(b)\n",
    "print(b[1,3])\n",
    "print(b[0:5, 1]) ## each row in the second column of b\n",
    "print(b[:,1]) ## equivalent to the previous example\n",
    "print()\n",
    "print(b[1:3,:])# each column in the second and third row of b\n",
    "\n",
    "#When fewer indices are provided than the number of axes, the missing \n",
    "#indices are considered complete slices:\n",
    "print()\n",
    "print(b[-1])## the last row. Equivalent to b[-1,:]\n"
   ]
  },
  {
   "cell_type": "code",
   "execution_count": 14,
   "metadata": {},
   "outputs": [
    {
     "name": "stdout",
     "output_type": "stream",
     "text": [
      "(2, 2, 3)\n",
      "[[100 101 102]\n",
      " [110 112 113]]\n",
      "[[  2  13]\n",
      " [102 113]]\n"
     ]
    }
   ],
   "source": [
    "\"\"\"\n",
    "The expression within brackets in b[i] is treated as an i followed by as many instances of :\n",
    "as needed to represent the remaining axes. NumPy also allows you to write this using dots \n",
    "as b[i,...].\n",
    "\n",
    "NumPy also allows you to write this using dots as b[i,...].\n",
    "\n",
    "The dots (...) represent as many colons as needed to produce a complete indexing tuple. For \n",
    "example, if x is an array with 5 axes, then\n",
    "\n",
    "x[1,2,...] is equivalent to x[1,2,:,:,:],\n",
    "\n",
    "x[...,3] to x[:,:,:,:,3] and\n",
    "\n",
    "x[4,...,5,:] to x[4,:,:,5,:].\n",
    "\"\"\"\n",
    "\n",
    "c = np.array( [[[  0,  1,  2],# a 3D array (two stacked 2D arrays)\n",
    "                [ 10, 12, 13]],\n",
    "               \n",
    "               [[100,101,102],\n",
    "                [110,112,113]]])\n",
    "print(c.shape)\n",
    "print(c[1,...])# same as c[1,:,:] or c[1]\n",
    "print(c[...,2]) # same as c[:,:,2]\n"
   ]
  },
  {
   "cell_type": "code",
   "execution_count": 15,
   "metadata": {},
   "outputs": [
    {
     "name": "stdout",
     "output_type": "stream",
     "text": [
      "[0 1 2 3]\n",
      "[10 11 12 13]\n",
      "[20 21 22 23]\n",
      "[30 31 32 33]\n",
      "[40 41 42 43]\n",
      "\n",
      "0\n",
      "1\n",
      "2\n",
      "3\n",
      "10\n",
      "11\n",
      "12\n",
      "13\n",
      "20\n",
      "21\n",
      "22\n",
      "23\n",
      "30\n",
      "31\n",
      "32\n",
      "33\n",
      "40\n",
      "41\n",
      "42\n",
      "43\n"
     ]
    }
   ],
   "source": [
    "#Iterating over multidimensional arrays is done with respect to the first axis:\n",
    "for row in b:\n",
    "    print(row)\n",
    "print()\n",
    "#However, if one wants to perform an operation on each element in the array, one can \n",
    "#use the flat attribute which is an iterator over all the elements of the array:  \n",
    "\n",
    "for element in b.flat:\n",
    "    print(element)"
   ]
  },
  {
   "cell_type": "code",
   "execution_count": 16,
   "metadata": {},
   "outputs": [
    {
     "name": "stdout",
     "output_type": "stream",
     "text": [
      "[[3. 7. 3. 4.]\n",
      " [1. 4. 2. 2.]\n",
      " [7. 2. 4. 9.]]\n",
      "(3, 4)\n",
      "\n",
      "[3. 7. 3. 4. 1. 4. 2. 2. 7. 2. 4. 9.]\n",
      "(12,)\n",
      "\n",
      "[[3. 7.]\n",
      " [3. 4.]\n",
      " [1. 4.]\n",
      " [2. 2.]\n",
      " [7. 2.]\n",
      " [4. 9.]]\n",
      "\n",
      "[[3. 1. 7.]\n",
      " [7. 4. 2.]\n",
      " [3. 2. 4.]\n",
      " [4. 2. 9.]]\n",
      "\n",
      "(4, 3)\n",
      "(3, 4)\n"
     ]
    }
   ],
   "source": [
    "#Shape Manipulation\n",
    "\"\"\"\n",
    "Changing the shape of an array.\n",
    "An array has a shape given by the number of elements along each axis:\n",
    "\"\"\"\n",
    "a = np.floor(10*random_generator.random((3,4)))\n",
    "print(a)\n",
    "print(a.shape)\n",
    "print()\n",
    "#The shape of an array can be changed with various commands. \n",
    "#Note that the following three commands all return a modified array,\n",
    "#but do not change the original array:\n",
    "\n",
    "print(a.ravel())#returns the array, flattened\n",
    "print(a.ravel().shape)\n",
    "print()\n",
    "print(a.reshape(6,2))#returns the array with a modified shape\n",
    "print()\n",
    "print(a.T)#returns the array transposed\n",
    "print()\n",
    "print(a.T.shape)\n",
    "print(a.shape)"
   ]
  },
  {
   "cell_type": "code",
   "execution_count": 17,
   "metadata": {},
   "outputs": [
    {
     "data": {
      "text/plain": [
       "'\\nWhy Numpy ? \\nAns: Numpy is faster compared to lists\\n1. Numpy array have int data type that is specified\\nfor e.g : int16 int8 etc ,basically dtype\\n2. Lists have their own object value, object type, \\nreference count and size, That roughly makes the objects \\nof lists large/ More bytes of memory as everything is in binary .\\n3. Reading data from numpy array is quicker in that aspect.\\n4. No type checking when iterating through numpy array, makes it\\nfaster. Lists have type checking as they may have all datatype obj\\nwithin the list\\n5. Numpy uses Contiguous memory. Meaning :\\nALl the objects of numpy array are stored in memory side by side \\nnext to eachother.\\nList objects are stored in different locations of memory.Objects with \\npointer to next object value is stored within the memory cells.\\n'"
      ]
     },
     "execution_count": 17,
     "metadata": {},
     "output_type": "execute_result"
    }
   ],
   "source": [
    "\"\"\"\n",
    "Why Numpy ? \n",
    "Ans: Numpy is faster compared to lists\n",
    "1. Numpy array have int data type that is specified\n",
    "for e.g : int16 int8 etc ,basically dtype\n",
    "2. Lists have their own object value, object type, \n",
    "reference count and size, That roughly makes the objects \n",
    "of lists large/ More bytes of memory as everything is in binary .\n",
    "3. Reading data from numpy array is quicker in that aspect.\n",
    "4. No type checking when iterating through numpy array, makes it\n",
    "faster. Lists have type checking as they may have all datatype obj\n",
    "within the list\n",
    "5. Numpy uses Contiguous memory. Meaning :\n",
    "ALl the objects of numpy array are stored in memory side by side \n",
    "next to eachother.\n",
    "List objects are stored in different locations of memory.Objects with \n",
    "pointer to next object value is stored within the memory cells.\n",
    "\"\"\""
   ]
  },
  {
   "cell_type": "code",
   "execution_count": 18,
   "metadata": {
    "scrolled": true
   },
   "outputs": [
    {
     "name": "stdout",
     "output_type": "stream",
     "text": [
      "[[9. 7. 5. 2.]\n",
      " [1. 9. 5. 1.]\n",
      " [6. 7. 6. 9.]]\n",
      "\n",
      "[[9. 7. 5. 2. 1. 9.]\n",
      " [5. 1. 6. 7. 6. 9.]]\n"
     ]
    }
   ],
   "source": [
    "a = np.array([[9.,7.,5.,2.],[1.,9.,5.,1.],[6.,7.,6.,9.]],dtype='float32')\n",
    "print(a)\n",
    "a.resize((2,6))#size where product = no of elements\n",
    "print()\n",
    "print(a)"
   ]
  },
  {
   "cell_type": "markdown",
   "metadata": {},
   "source": [
    "Ravel : returns the array Flattened,\n",
    "Reshape : returns the array reshaped based on the tuple .\n",
    "Transpose : Returns Transpose of the array/Matrix\n",
    "\n",
    "They do not change the array itself\n",
    "\n",
    "Mechanism: \n",
    "The order of the elements in the array resulting from ravel() is normally “C-style”, that is, the rightmost index “changes the fastest”, so the element after a[0,0] is a[0,1]. If the array is reshaped to some other shape, again the array is treated as “C-style”.NumPy normally creates arrays stored in this order, so ravel() will usually not need to copy its argument, but if the array was made by taking slices of another array or created with unusual options, it may need to be copied.\n",
    "\n",
    "\n",
    "Resize: Numpy resize function resizes the array itself."
   ]
  },
  {
   "cell_type": "code",
   "execution_count": 19,
   "metadata": {},
   "outputs": [
    {
     "name": "stdout",
     "output_type": "stream",
     "text": [
      "[[9. 7. 5. 2. 1. 9.]\n",
      " [5. 1. 6. 7. 6. 9.]]\n",
      "[[9. 7.]\n",
      " [5. 2.]\n",
      " [1. 9.]\n",
      " [5. 1.]\n",
      " [6. 7.]\n",
      " [6. 9.]]\n",
      "[[9. 7. 5. 2. 1. 9. 5. 1. 6. 7. 6. 9.]]\n",
      "[[9. 7. 5. 2. 1. 9. 5. 1. 6. 7. 6. 9.]]\n"
     ]
    }
   ],
   "source": [
    "print(a)\n",
    "a.resize((6,2))\n",
    "print(a)\n",
    "a.resize((1,12))\n",
    "print(a)\n",
    "a.ravel()\n",
    "print(a)"
   ]
  },
  {
   "cell_type": "code",
   "execution_count": 20,
   "metadata": {},
   "outputs": [
    {
     "name": "stdout",
     "output_type": "stream",
     "text": [
      "[[9. 7. 5. 2. 1. 9.]\n",
      " [5. 1. 6. 7. 6. 9.]]\n",
      "\n",
      "[[9. 7. 5. 2. 1. 9. 5. 1. 6. 7. 6. 9.]]\n",
      "\n",
      "[9. 7. 5. 2. 1. 9. 5. 1. 6. 7. 6. 9.]\n",
      "\n",
      "[[9. 7.]\n",
      " [5. 2.]\n",
      " [1. 9.]\n",
      " [5. 1.]\n",
      " [6. 7.]\n",
      " [6. 9.]]\n"
     ]
    }
   ],
   "source": [
    "#If a dimension is given as -1 in a reshaping operation, \n",
    "#the other dimensions are automatically calculated:\n",
    "a = np.array([[9.,7.,5.,2.],[1.,9.,5.,1.],[6.,7.,6.,9.]],dtype='float32')\n",
    "print(a.reshape(2,-1))\n",
    "print()\n",
    "print(a.reshape(1,-1))\n",
    "print()\n",
    "print(a.reshape(-1))\n",
    "print()\n",
    "print(a.reshape(6,-1))\n"
   ]
  },
  {
   "cell_type": "markdown",
   "metadata": {},
   "source": [
    "# See Also : \n",
    "###### ndarray.shape, reshape, resize, ravel"
   ]
  },
  {
   "cell_type": "markdown",
   "metadata": {},
   "source": [
    "### Stacking together different arrays\n",
    "###### Vstack Hstack column_stack\n",
    "###### Several arrays can be stacked together along different axes"
   ]
  },
  {
   "cell_type": "code",
   "execution_count": 21,
   "metadata": {},
   "outputs": [
    {
     "name": "stdout",
     "output_type": "stream",
     "text": [
      "[[9. 7.]\n",
      " [5. 2.]]\n",
      "[[1. 9.]\n",
      " [5. 1.]]\n",
      "\n",
      "[[9. 7. 1. 9.]\n",
      " [5. 2. 5. 1.]]\n",
      "\n",
      "[[9. 7.]\n",
      " [5. 2.]\n",
      " [1. 9.]\n",
      " [5. 1.]]\n",
      "Column Stack\n",
      "[[9. 7. 1. 9.]\n",
      " [5. 2. 5. 1.]]\n",
      "a -1D array\n",
      "[4. 2.]\n",
      "b -1D array\n",
      "[5. 6.]\n",
      "\n",
      "1D Column Stack\n",
      "[[4. 5.]\n",
      " [2. 6.]]\n",
      "\n",
      "1D Horizontal Stack\n",
      "[4. 2. 5. 6.]\n",
      "\n",
      "Visualize 1D array as column vectors\n",
      "[[4.]\n",
      " [2.]]\n",
      "[[5.]\n",
      " [6.]]\n",
      "\n",
      "Column stack column vectors :\n",
      "[[4. 5.]\n",
      " [2. 6.]]\n",
      "\n",
      "Horizontal Stack Column Vectors :\n",
      "[[4. 5.]\n",
      " [2. 6.]]\n"
     ]
    }
   ],
   "source": [
    "a = np.floor(10*random_generator.random((2,2)))\n",
    "print(a)\n",
    "b = np.floor(10*random_generator.random((2,2)))\n",
    "print(b)\n",
    "print()\n",
    "#Horizontal stack\n",
    "print(np.hstack((a,b)))\n",
    "print()\n",
    "#Vertical stack\n",
    "print(np.vstack((a,b)))\n",
    "\n",
    "#Column Stack :\n",
    "#The function column_stack stacks 1D arrays as columns into a 2D array.\n",
    "#It is equivalent to hstack only for 2D arrays:\n",
    "\n",
    "from numpy import newaxis\n",
    "columnStack = np.column_stack((a,b))# With 2D arrays\n",
    "print(\"Column Stack\")\n",
    "print(columnStack)\n",
    "a = np.array([4.,2.])\n",
    "b = np.array([5.,6.])\n",
    "print(\"a -1D array\")\n",
    "print(a)\n",
    "print(\"b -1D array\")\n",
    "print(b)\n",
    "print()\n",
    "oneD_Column_Stack = np.column_stack((a,b))#Column stack for 1D array\n",
    "print(\"1D Column Stack\")\n",
    "print(oneD_Column_Stack)\n",
    "print()\n",
    "H_stack_oneD = np.hstack((a,b))\n",
    "print(\"1D Horizontal Stack\")\n",
    "print(H_stack_oneD)\n",
    "print()\n",
    "#column vector\n",
    "print(\"Visualize 1D array as column vectors\")\n",
    "print(a[:,newaxis])#View a as a column vector\n",
    "print(b[:,newaxis])\n",
    "print()\n",
    "print(\"Column stack column vectors :\")\n",
    "print(np.column_stack((a[:,newaxis],b[:,newaxis])))\n",
    "print()\n",
    "print(\"Horizontal Stack Column Vectors :\")\n",
    "print(np.hstack((a[:,newaxis],b[:,newaxis])))"
   ]
  },
  {
   "cell_type": "markdown",
   "metadata": {},
   "source": [
    "#### the function row_stack is equivalent to vstack for any input arrays."
   ]
  },
  {
   "cell_type": "markdown",
   "metadata": {},
   "source": [
    "####  In fact, row_stack is an alias for vstack:"
   ]
  },
  {
   "cell_type": "code",
   "execution_count": 22,
   "metadata": {},
   "outputs": [
    {
     "data": {
      "text/plain": [
       "False"
      ]
     },
     "execution_count": 22,
     "metadata": {},
     "output_type": "execute_result"
    }
   ],
   "source": [
    "np.column_stack is np.hstack"
   ]
  },
  {
   "cell_type": "code",
   "execution_count": 23,
   "metadata": {},
   "outputs": [
    {
     "data": {
      "text/plain": [
       "True"
      ]
     },
     "execution_count": 23,
     "metadata": {},
     "output_type": "execute_result"
    }
   ],
   "source": [
    "np.row_stack is np.vstack"
   ]
  },
  {
   "cell_type": "markdown",
   "metadata": {},
   "source": [
    "##### In general, for arrays with more than two dimensions,\n",
    "#####  hstack stacks along their second axes,\n",
    "#####  vstack stacks along their first axes,\n",
    "#####  Concatenate allows for an optional arguments giving the number of the axis along which the concatenation should happen."
   ]
  },
  {
   "cell_type": "code",
   "execution_count": 24,
   "metadata": {},
   "outputs": [
    {
     "name": "stdout",
     "output_type": "stream",
     "text": [
      "[1 2 3 0 4]\n"
     ]
    },
    {
     "data": {
      "text/plain": [
       "'\\nWhen used with arrays as arguments, r_ and c_ are similar \\nto vstack and hstack in their default behavior, but allow \\nfor an optional argument giving the number of the axis along \\nwhich to concatenate.\\n'"
      ]
     },
     "execution_count": 24,
     "metadata": {},
     "output_type": "execute_result"
    }
   ],
   "source": [
    "# complex case : r_ and c_ are useful for creating \n",
    "# arrays by stacking numbers along one axis. They allow\n",
    "# the use of range literals (\":\")\n",
    "a = np.r_[1:4,0,4]\n",
    "#slicing :- 1:4 -> 1,2,3 \n",
    "#0,4 :- 0 and 4 at the end of the axis\n",
    "print(a)\n",
    "\"\"\"\n",
    "When used with arrays as arguments, r_ and c_ are similar \n",
    "to vstack and hstack in their default behavior, but allow \n",
    "for an optional argument giving the number of the axis along \n",
    "which to concatenate.\n",
    "\"\"\""
   ]
  },
  {
   "cell_type": "markdown",
   "metadata": {},
   "source": [
    "# Splitting numpy array"
   ]
  },
  {
   "cell_type": "code",
   "execution_count": 25,
   "metadata": {},
   "outputs": [
    {
     "name": "stdout",
     "output_type": "stream",
     "text": [
      "[[6. 7. 6. 9. 0. 5. 4. 0. 6. 8. 5. 2.]\n",
      " [8. 5. 5. 7. 1. 8. 6. 7. 1. 8. 1. 0.]]\n",
      "\n",
      "All 3 of them in one std output:\n",
      "[array([[6., 7., 6., 9.],\n",
      "       [8., 5., 5., 7.]]), array([[0., 5., 4., 0.],\n",
      "       [1., 8., 6., 7.]]), array([[6., 8., 5., 2.],\n",
      "       [1., 8., 1., 0.]])]\n",
      "\n",
      "All splits indiviually, via indexing:\n",
      "Index 0\n",
      "[[6. 7. 6. 9.]\n",
      " [8. 5. 5. 7.]]\n",
      "\n",
      "Index 1\n",
      "[[0. 5. 4. 0.]\n",
      " [1. 8. 6. 7.]]\n",
      "\n",
      "Index 2\n",
      "[[6. 8. 5. 2.]\n",
      " [1. 8. 1. 0.]]\n",
      "\n",
      "Splitting array along column\n",
      "[array([[6., 7., 6.],\n",
      "       [8., 5., 5.]]), array([[9.],\n",
      "       [7.]]), array([[0., 5., 4., 0., 6., 8., 5., 2.],\n",
      "       [1., 8., 6., 7., 1., 8., 1., 0.]])]\n",
      "\n",
      "All splits indiviually, via indexing:\n",
      "Index 0\n",
      "[[6. 7. 6.]\n",
      " [8. 5. 5.]]\n",
      "\n",
      "Index 1\n",
      "[[9.]\n",
      " [7.]]\n",
      "\n",
      "Index 2\n",
      "[[0. 5. 4. 0. 6. 8. 5. 2.]\n",
      " [1. 8. 6. 7. 1. 8. 1. 0.]]\n"
     ]
    }
   ],
   "source": [
    "\"\"\"\n",
    "Using hsplit, you can split an array along its horizontal axis, either by specifying the number \n",
    "of equally shaped arrays to return, or by specifying the columns after which the division should \n",
    "occur:\n",
    "\"\"\"\n",
    "a = np.floor(10*random_generator.random((2,12)))\n",
    "print(a)\n",
    "print()\n",
    "#Split into 3\n",
    "print(\"All 3 of them in one std output:\")\n",
    "print(np.hsplit(a,3))\n",
    "print()\n",
    "print(\"All splits indiviually, via indexing:\")\n",
    "print(\"Index 0\")\n",
    "print(np.hsplit(a,3)[0])\n",
    "print()\n",
    "print(\"Index 1\")\n",
    "split_one = np.hsplit(a,3)[1]\n",
    "print(split_one)\n",
    "print()\n",
    "print(\"Index 2\")\n",
    "print(np.hsplit(a,3)[2])\n",
    "\n",
    "#Split a after the third and the fourth column\n",
    "print()\n",
    "print(\"Splitting array along column\")\n",
    "print(np.hsplit(a,(3,4)))\n",
    "print()\n",
    "print(\"All splits indiviually, via indexing:\")\n",
    "print(\"Index 0\")\n",
    "print(np.hsplit(a,(3,4))[0])\n",
    "print()\n",
    "print(\"Index 1\")\n",
    "split_one = np.hsplit(a,(3,4))[1]\n",
    "print(split_one)\n",
    "print()\n",
    "print(\"Index 2\")\n",
    "print(np.hsplit(a,(3,4))[2])\n"
   ]
  },
  {
   "cell_type": "markdown",
   "metadata": {},
   "source": [
    "#### vsplit splits along the vertical axis, and \n",
    "#### array_split allows one to specify along which axis to split."
   ]
  },
  {
   "cell_type": "code",
   "execution_count": 26,
   "metadata": {},
   "outputs": [
    {
     "name": "stdout",
     "output_type": "stream",
     "text": [
      "[[ 0  1  2  3]\n",
      " [ 4  5  6  7]\n",
      " [ 8  9 10 11]]\n",
      "True\n",
      "139830364532528\n",
      "139830364532528\n"
     ]
    },
    {
     "data": {
      "text/plain": [
       "True"
      ]
     },
     "execution_count": 26,
     "metadata": {},
     "output_type": "execute_result"
    }
   ],
   "source": [
    "\"\"\"\n",
    "When operating and manipulating arrays, their data is sometimes copied into a new array and \n",
    "sometimes not. This is often a source of confusion for beginners. \n",
    "There are three cases:\n",
    "\"\"\"\n",
    "\n",
    "#Simple assignments make no copy of objects or their data.\n",
    "\n",
    "a = np.array([\n",
    "    [ 0, 1, 2, 3],\n",
    "    [ 4, 5, 6, 7],\n",
    "    [ 8, 9,10,11]\n",
    "])\n",
    "print(a)\n",
    "b = a # no new obj is created.\n",
    "print(b is a)## a and b are two names for the same ndarray object\n",
    "\n",
    "#Python passes mutable objects as references, so function calls make no copy.\n",
    "def f(x):\n",
    "    print(id(x))## id is a unique identifier of an object\n",
    "\n",
    "print(id(a))==f(a) # may vary\n"
   ]
  },
  {
   "cell_type": "markdown",
   "metadata": {},
   "source": [
    "# View or shallow copy"
   ]
  },
  {
   "cell_type": "code",
   "execution_count": 27,
   "metadata": {},
   "outputs": [
    {
     "name": "stdout",
     "output_type": "stream",
     "text": [
      "[[ 0  1  2  3]\n",
      " [ 4  5  6  7]\n",
      " [ 8  9 10 11]]\n",
      "\n",
      "[[ 0  1  2  3]\n",
      " [ 4  5  6  7]\n",
      " [ 8  9 10 11]]\n",
      "False\n",
      "True\n",
      "False\n",
      "C shape before change\n",
      "(3, 4)\n",
      "A shape\n",
      "(3, 4)\n",
      "C shape\n",
      "(2, 6)\n",
      "A shape doesnot change , C shape does.\n",
      "[[   0    1    2    3 1234    5]\n",
      " [   6    7    8    9   10   11]]\n",
      "\n",
      "Value in a changes as well\n",
      "[[   0    1    2    3]\n",
      " [1234    5    6    7]\n",
      " [   8    9   10   11]]\n"
     ]
    }
   ],
   "source": [
    "\"\"\"\n",
    "Different array objects can share the same data.\n",
    "The view method creates a new array object that \n",
    "looks at the same data.\n",
    "\"\"\"\n",
    "c = a.view()\n",
    "print(a)\n",
    "print()\n",
    "# c is a view of the data owned by a\n",
    "print(c)\n",
    "print(c is a)\n",
    "#Base object if memory is from some other object.\n",
    "#The base of an array that owns its memory.\n",
    "print(c.base is a)\n",
    "print(c.flags.owndata)\n",
    "print(\"C shape before change\")\n",
    "print(c.shape)\n",
    "c = c.reshape((2,6))\n",
    "print(\"A shape\")\n",
    "print(a.shape)\n",
    "print(\"C shape\")\n",
    "print(c.shape)\n",
    "print(\"A shape doesnot change , C shape does.\")\n",
    "c[0,4] = 1234\n",
    "print(c)\n",
    "print()\n",
    "print(\"Value in a changes as well\")\n",
    "print(a)"
   ]
  },
  {
   "cell_type": "markdown",
   "metadata": {},
   "source": [
    "## Slicing an array returns a view of it:\n"
   ]
  },
  {
   "cell_type": "code",
   "execution_count": 28,
   "metadata": {},
   "outputs": [
    {
     "name": "stdout",
     "output_type": "stream",
     "text": [
      "[[ 0  1  2  3]\n",
      " [ 4  5  6  7]\n",
      " [ 8  9 10 11]]\n",
      "\n",
      "[[ 1  2]\n",
      " [ 5  6]\n",
      " [ 9 10]]\n",
      "\n",
      "[[10 10]\n",
      " [10 10]\n",
      " [10 10]]\n",
      "10\n"
     ]
    }
   ],
   "source": [
    "a = np.array([\n",
    "    [ 0, 1, 2, 3],\n",
    "    [ 4, 5, 6, 7],\n",
    "    [ 8, 9,10,11]\n",
    "])\n",
    "print(a)\n",
    "print()\n",
    "s = a[:, 1:3]\n",
    "print(s)\n",
    "s[:] = 10\n",
    "print()\n",
    "print(s)\n",
    "#s[:] is a view of s. \n",
    "#Note the difference between s = 10 and s[:] = 10\n",
    "s = 10\n",
    "print(s)"
   ]
  },
  {
   "cell_type": "code",
   "execution_count": 29,
   "metadata": {},
   "outputs": [
    {
     "name": "stdout",
     "output_type": "stream",
     "text": [
      "False\n",
      "d doesn't share anything with a, d.base is a?\n",
      "False\n",
      "\n",
      "Changing d does not change a cause its not a view of a\n",
      "\n",
      "[[ 0  1  2  3]\n",
      " [ 4  5  6  7]\n",
      " [ 8  9 10 11]]\n",
      "\n",
      "[[9999    1    2    3]\n",
      " [   4    5    6    7]\n",
      " [   8    9   10   11]]\n",
      "\n",
      "[[9999    1    2    3]\n",
      " [   4    5    6    7]]\n"
     ]
    }
   ],
   "source": [
    "#The copy method makes a complete copy of the array \n",
    "#and its data\n",
    "a = np.array([\n",
    "    [ 0, 1, 2, 3],\n",
    "    [ 4, 5, 6, 7],\n",
    "    [ 8, 9,10,11]\n",
    "])\n",
    "#a new array object with new data is created.\n",
    "d = a.copy()\n",
    "print(d is a)\n",
    "print(\"d doesn't share anything with a, d.base is a?\")\n",
    "print(d.base is a)\n",
    "print()\n",
    "d[0,0]=9999\n",
    "print(\"Changing d does not change a cause its not a view of a\")\n",
    "print()\n",
    "print(a)\n",
    "print()\n",
    "print(d)\n",
    "print()\n",
    "#Only number of rows mentioned. All columns.\n",
    "print(d[:2])"
   ]
  },
  {
   "cell_type": "code",
   "execution_count": 30,
   "metadata": {},
   "outputs": [
    {
     "name": "stdout",
     "output_type": "stream",
     "text": [
      "[       0        1        2 ... 99999997 99999998 99999999]\n",
      "\n",
      "[ 0  1  2  3  4  5  6  7  8  9 10 11 12 13 14 15 16 17 18 19 20 21 22 23\n",
      " 24 25 26 27 28 29 30 31 32 33 34 35 36 37 38 39 40 41 42 43 44 45 46 47\n",
      " 48 49 50 51 52 53 54 55 56 57 58 59 60 61 62 63 64 65 66 67 68 69 70 71\n",
      " 72 73 74 75 76 77 78 79 80 81 82 83 84 85 86 87 88 89 90 91 92 93 94 95\n",
      " 96 97 98 99]\n"
     ]
    },
    {
     "data": {
      "text/plain": [
       "'\\nIf b = a[:100] is used instead, a is referenced by b and will persist \\nin memory even if del a is executed.\\n'"
      ]
     },
     "execution_count": 30,
     "metadata": {},
     "output_type": "execute_result"
    }
   ],
   "source": [
    "\"\"\"\n",
    "Sometimes copy should be called after slicing if the original array is not required anymore. \n",
    "For example, suppose a is a huge intermediate result and the final result b only contains a \n",
    "small fraction of a, a deep copy should be made when constructing b with slicing:\n",
    "\"\"\"\n",
    "a = np.arange(int(1e8))\n",
    "b = a[:100].copy()\n",
    "print(a)\n",
    "print()\n",
    "del a \n",
    "print(b)\n",
    "#the memory of a can be released\n",
    "\"\"\"\n",
    "If b = a[:100] is used instead, a is referenced by b and will persist \n",
    "in memory even if del a is executed.\n",
    "\"\"\""
   ]
  },
  {
   "cell_type": "markdown",
   "metadata": {},
   "source": [
    "## Numpy Functions OverView :\n"
   ]
  },
  {
   "cell_type": "code",
   "execution_count": 31,
   "metadata": {},
   "outputs": [
    {
     "data": {
      "text/plain": [
       "'\\ncross, dot, outer, linalg.svd, vdot\\n'"
      ]
     },
     "execution_count": 31,
     "metadata": {},
     "output_type": "execute_result"
    }
   ],
   "source": [
    "#Array Creation\n",
    "\"\"\"\n",
    "arange, array, copy, empty, empty_like, eye, \n",
    "fromfile, fromfunction, identity, linspace, \n",
    "logspace, mgrid, ogrid, ones, ones_like, r_, \n",
    "zeros, zeros_like\n",
    "\"\"\"\n",
    "#Conversions\n",
    "\"\"\"\n",
    "ndarray.astype, atleast_1d, atleast_2d, \n",
    "atleast_3d,mat\n",
    "\"\"\"\n",
    "#Manipulations\n",
    "\"\"\"\n",
    "array_split, column_stack, concatenate, \n",
    "diagonal, dsplit, dstack, hsplit, hstack, \n",
    "ndarray.item, newaxis, ravel, repeat, reshape,\n",
    "resize, squeeze, swapaxes, take, transpose, \n",
    "vsplit, vstack\n",
    "\"\"\"\n",
    "#Questions :\n",
    "\"\"\"\n",
    "all, any, nonzero, where\n",
    "\"\"\"\n",
    "#Ordering :\n",
    "\"\"\"\n",
    "argmax, argmin, argsort, max, min, ptp, \n",
    "searchsorted, sort\n",
    "\"\"\"\n",
    "#Operations :\n",
    "\"\"\"\n",
    "choose, compress, cumprod, cumsum, inner, \n",
    "ndarray.fill, imag, prod, put, putmask, real, \n",
    "sum\n",
    "\"\"\"\n",
    "#Basic Statistics :\n",
    "\"\"\"\n",
    "cov, mean, std, var\n",
    "\"\"\"\n",
    "#Basic Linear Algebra :\n",
    "\"\"\"\n",
    "cross, dot, outer, linalg.svd, vdot\n",
    "\"\"\""
   ]
  },
  {
   "cell_type": "code",
   "execution_count": 32,
   "metadata": {},
   "outputs": [
    {
     "data": {
      "text/plain": [
       "'\\nBroadcasting allows universal functions to deal in a \\nmeaningful way with inputs that do not have exactly \\nthe same shape.\\n\\nThe first rule of broadcasting is that if all input \\narrays do not have the same number of dimensions, \\na “1” will be repeatedly prepended to the shapes of \\nthe smaller arrays until all the arrays have the \\nsame number of dimensions.\\n\\nThe second rule of broadcasting ensures that arrays \\nwith a size of 1 along a particular dimension act as \\nif they had the size of the array with the largest \\nshape along that dimension. The value of the array \\nelement is assumed to be the same along that dimension \\nfor the “broadcast” array.\\n\\nAfter application of the broadcasting rules, the sizes \\nof all arrays must match. \\nMore details can be found in Broadcasting.\\n\\nhttps://numpy.org/doc/stable/user/basics.broadcasting.html\\n'"
      ]
     },
     "execution_count": 32,
     "metadata": {},
     "output_type": "execute_result"
    }
   ],
   "source": [
    "#Broadcasting rules :\n",
    "\"\"\"\n",
    "Broadcasting allows universal functions to deal in a \n",
    "meaningful way with inputs that do not have exactly \n",
    "the same shape.\n",
    "\n",
    "The first rule of broadcasting is that if all input \n",
    "arrays do not have the same number of dimensions, \n",
    "a “1” will be repeatedly prepended to the shapes of \n",
    "the smaller arrays until all the arrays have the \n",
    "same number of dimensions.\n",
    "\n",
    "The second rule of broadcasting ensures that arrays \n",
    "with a size of 1 along a particular dimension act as \n",
    "if they had the size of the array with the largest \n",
    "shape along that dimension. The value of the array \n",
    "element is assumed to be the same along that dimension \n",
    "for the “broadcast” array.\n",
    "\n",
    "After application of the broadcasting rules, the sizes \n",
    "of all arrays must match. \n",
    "More details can be found in Broadcasting.\n",
    "\n",
    "https://numpy.org/doc/stable/user/basics.broadcasting.html\n",
    "\"\"\""
   ]
  },
  {
   "cell_type": "markdown",
   "metadata": {},
   "source": [
    "##### Array indexing :\n",
    "##### 1. Indexing by integers and slices\n",
    "##### 2. Indexing by array of ints and array of booleans"
   ]
  },
  {
   "cell_type": "code",
   "execution_count": 33,
   "metadata": {},
   "outputs": [
    {
     "name": "stdout",
     "output_type": "stream",
     "text": [
      "a = [  0   1   4   9  16  25  36  49  64  81 100 121]\n",
      "\n",
      "i = [1 1 3 8 5]\n",
      "\n",
      "The elements of a at the positions i\n",
      "[ 1  1  9 64 25]\n",
      "\n",
      "j =\n",
      "[[1 3]\n",
      " [8 5]]\n",
      "\n",
      "The elements of a(1D) at the positions j(2D)\n",
      "[[ 1  9]\n",
      " [64 25]]\n",
      "the same shape as j\n"
     ]
    }
   ],
   "source": [
    "#Indexing with Arrays of Indices\n",
    "#The first 12 square number\n",
    "a = np.arange(12)**2\n",
    "print(\"a = {}\".format(a))\n",
    "print()\n",
    "#An array of indices\n",
    "i = np.array([1,1,3,8,5])\n",
    "print(\"i = {}\".format(i))\n",
    "print()\n",
    "print(\"The elements of a at the positions i\")\n",
    "print(a[i])\n",
    "print()\n",
    "#A (2d)bidimensional array of indices\n",
    "j = np.array([\n",
    "             [1, 3], \n",
    "             [8, 5]\n",
    "])\n",
    "print(\"j =\\n{}\".format(j))\n",
    "print()\n",
    "print(\"The elements of a(1D) at the positions j(2D)\")\n",
    "print(a[j])\n",
    "print(\"the same shape as j\")"
   ]
  },
  {
   "cell_type": "code",
   "execution_count": 35,
   "metadata": {},
   "outputs": [
    {
     "name": "stdout",
     "output_type": "stream",
     "text": [
      "Image paletter , actual image : \n",
      "[[  0   0   0]\n",
      " [255   0   0]\n",
      " [  0 255   0]\n",
      " [  0   0 255]\n",
      " [255 255 255]]\n",
      "\n",
      "Image index : \n",
      "[[0 1 2 0]\n",
      " [0 3 4 0]\n",
      " [0 3 4 0]]\n",
      "\n",
      "Palette, indexed with image : \n",
      "[[[  0   0   0]\n",
      "  [255   0   0]\n",
      "  [  0 255   0]\n",
      "  [  0   0   0]]\n",
      "\n",
      " [[  0   0   0]\n",
      "  [  0   0 255]\n",
      "  [255 255 255]\n",
      "  [  0   0   0]]\n",
      "\n",
      " [[  0   0   0]\n",
      "  [  0   0 255]\n",
      "  [255 255 255]\n",
      "  [  0   0   0]]]\n",
      "new array size : (3, 4, 3)\n"
     ]
    }
   ],
   "source": [
    "\"\"\"\n",
    "When the indexed array a is multidimensional, \n",
    "a single array of indices refers to the first \n",
    "dimension of a. The following example shows this \n",
    "behavior by converting an image of labels into a \n",
    "color image using a palette.\n",
    "\"\"\"\n",
    "#Indexing via one dimension , row\n",
    "palette= np.array([\n",
    "\n",
    "    [0, 0, 0],         # black\n",
    "    [255, 0, 0],       # red\n",
    "    [0, 255, 0],       # green\n",
    "    [0, 0, 255],       # blue\n",
    "    [255, 255, 255]    # white\n",
    "])\n",
    "print(\"Image paletter , actual image : \\n{}\".format(palette))\n",
    "print()\n",
    "#Each value corresponds to a color in the palette\n",
    "image = np.array([\n",
    "    [0,1,2,0], #row numbers\n",
    "    [0,3,4,0], #row numbers\n",
    "    [0,3,4,0]\n",
    "])\n",
    "print(\"Image index : \\n{}\".format(image))\n",
    "print()\n",
    "#so -> [\n",
    "#[row 0, row 1, row 2, row 0]\n",
    "#[row 0, row 3, row 4, row 0]\n",
    "#[row 0, row 3, row 4, row 0]\n",
    "#]\n",
    "print(\"Palette, indexed with image : \\n{}\".format(palette[image]))\n",
    "print(\"new array size : {}\".format(palette[image].shape))"
   ]
  },
  {
   "cell_type": "code",
   "execution_count": 47,
   "metadata": {},
   "outputs": [
    {
     "name": "stdout",
     "output_type": "stream",
     "text": [
      "a : \n",
      "[[ 0  1  2  3]\n",
      " [ 4  5  6  7]\n",
      " [ 8  9 10 11]]\n",
      "\n",
      "index of the 1st dim of a : \n",
      "[[0 1]\n",
      " [1 2]]\n",
      "\n",
      "index of the 2nd dim of a : \n",
      "[[2 1]\n",
      " [3 3]]\n",
      "\n",
      "I and J must have equal shape.\n",
      "Elements of a in i and j index : \n",
      "[[ 2  5]\n",
      " [ 7 11]]\n",
      "\n",
      "Also possibilities :\n",
      "(i,2) -> (0,2),(1,2),(1,2),(2,2)\n",
      "a[i,2] : \n",
      "[[ 2  6]\n",
      " [ 6 10]]\n",
      "\n",
      "(all rows (0,1,2..),j) -> \n",
      "(0,2),(0,1),(0,3),(0,3)\n",
      "(1,2),(1,1),(1,3),(1,3)\n",
      "(2,2),(2,1),(2,3),(2,3)\n",
      "a[:,j] : \n",
      "[[[ 2  1]\n",
      "  [ 3  3]]\n",
      "\n",
      " [[ 6  5]\n",
      "  [ 7  7]]\n",
      "\n",
      " [[10  9]\n",
      "  [11 11]]]\n"
     ]
    }
   ],
   "source": [
    "\"\"\"\n",
    "We can also give indexes for more than one \n",
    "dimension. The arrays of indices for each \n",
    "dimension must have the same shape.\n",
    "\"\"\"\n",
    "#Indexing via more than 1 dimension ie row and column\n",
    "a = np.arange(12).reshape(3,4)\n",
    "print(\"a : \\n{}\".format(a))\n",
    "print()\n",
    "print(\"index of the 1st dim of a : \")\n",
    "i = np.array([\n",
    "    [0,1],\n",
    "    [1,2]\n",
    "])\n",
    "print(i)\n",
    "print()\n",
    "j = np.array([\n",
    "    [2,1],\n",
    "    [3,3]\n",
    "])\n",
    "print(\"index of the 2nd dim of a : \\n{}\".format(j))\n",
    "print()\n",
    "print(\"I and J must have equal shape.\")\n",
    "print(\"Elements of a in i and j index : \\n{}\".format(a[i,j]))\n",
    "# (i,j) so -> (0,2),(1,1),(1,3),(2,3) in the order\n",
    "\n",
    "print()\n",
    "print(\"Also possibilities :\")\n",
    "print(\"(i,2) -> (0,2),(1,2),(1,2),(2,2)\")\n",
    "print(\"a[i,2] : \\n{}\".format(a[i,2]))\n",
    "print()\n",
    "\n",
    "print(\"(all rows (0,1,2..),j) -> \\n(0,2),(0,1),(0,3),(0,3)\" +\n",
    "        \"\\n(1,2),(1,1),(1,3),(1,3)\" +\n",
    "     \"\\n(2,2),(2,1),(2,3),(2,3)\")\n",
    "print(\"a[:,j] : \\n{}\".format(a[:,j]))"
   ]
  },
  {
   "cell_type": "code",
   "execution_count": 48,
   "metadata": {},
   "outputs": [
    {
     "data": {
      "text/plain": [
       "array([[ 2,  5],\n",
       "       [ 7, 11]])"
      ]
     },
     "execution_count": 48,
     "metadata": {},
     "output_type": "execute_result"
    }
   ],
   "source": [
    "\"\"\"\n",
    "n Python, arr[i, j] is exactly the same as \n",
    "arr[(i, j)]—so we can put i and j in a tuple and \n",
    "then do the indexing with that.\n",
    "\"\"\"\n",
    "l = (i,j)\n",
    "## equivalent to a[i, j]\n",
    "a[l]"
   ]
  },
  {
   "cell_type": "code",
   "execution_count": 53,
   "metadata": {},
   "outputs": [
    {
     "ename": "IndexError",
     "evalue": "index 3 is out of bounds for axis 0 with size 3",
     "output_type": "error",
     "traceback": [
      "\u001b[0;31m---------------------------------------------------------------------------\u001b[0m",
      "\u001b[0;31mIndexError\u001b[0m                                Traceback (most recent call last)",
      "\u001b[0;32m<ipython-input-53-dd83e61b4ea0>\u001b[0m in \u001b[0;36m<module>\u001b[0;34m\u001b[0m\n\u001b[1;32m      5\u001b[0m \"\"\"\n\u001b[1;32m      6\u001b[0m \u001b[0ms\u001b[0m \u001b[0;34m=\u001b[0m \u001b[0mnp\u001b[0m\u001b[0;34m.\u001b[0m\u001b[0marray\u001b[0m\u001b[0;34m(\u001b[0m\u001b[0;34m[\u001b[0m\u001b[0mi\u001b[0m\u001b[0;34m,\u001b[0m\u001b[0mj\u001b[0m\u001b[0;34m]\u001b[0m\u001b[0;34m)\u001b[0m\u001b[0;31m#not what we want\u001b[0m\u001b[0;34m\u001b[0m\u001b[0;34m\u001b[0m\u001b[0m\n\u001b[0;32m----> 7\u001b[0;31m \u001b[0ma\u001b[0m\u001b[0;34m[\u001b[0m\u001b[0ms\u001b[0m\u001b[0;34m]\u001b[0m\u001b[0;34m\u001b[0m\u001b[0;34m\u001b[0m\u001b[0m\n\u001b[0m\u001b[1;32m      8\u001b[0m \u001b[0;31m#we dont want this either.\u001b[0m\u001b[0;34m\u001b[0m\u001b[0;34m\u001b[0m\u001b[0;34m\u001b[0m\u001b[0m\n\u001b[1;32m      9\u001b[0m \u001b[0;31m#s = [i,j]\u001b[0m\u001b[0;34m\u001b[0m\u001b[0;34m\u001b[0m\u001b[0;34m\u001b[0m\u001b[0m\n",
      "\u001b[0;31mIndexError\u001b[0m: index 3 is out of bounds for axis 0 with size 3"
     ]
    }
   ],
   "source": [
    "\"\"\"\n",
    "However, we can not do this by putting i and j \n",
    "into an array, because this array will be \n",
    "interpreted as indexing the first dimension of a.\n",
    "\"\"\"\n",
    "s = np.array([i,j])#not what we want\n",
    "a[s]\n",
    "#we dont want this either.\n",
    "#s = [i,j]\n",
    "#print(s)"
   ]
  },
  {
   "cell_type": "code",
   "execution_count": 54,
   "metadata": {},
   "outputs": [
    {
     "data": {
      "text/plain": [
       "array([[ 2,  5],\n",
       "       [ 7, 11]])"
      ]
     },
     "execution_count": 54,
     "metadata": {},
     "output_type": "execute_result"
    }
   ],
   "source": [
    "## same as a[i, j]\n",
    "a[tuple(s)]"
   ]
  },
  {
   "cell_type": "code",
   "execution_count": 62,
   "metadata": {},
   "outputs": [
    {
     "name": "stdout",
     "output_type": "stream",
     "text": [
      "Time : \n",
      "[ 20.    51.25  82.5  113.75 145.  ]\n",
      "Data : \n",
      "[[ 0.          0.84147098  0.90929743  0.14112001]\n",
      " [-0.7568025  -0.95892427 -0.2794155   0.6569866 ]\n",
      " [ 0.98935825  0.41211849 -0.54402111 -0.99999021]\n",
      " [-0.53657292  0.42016704  0.99060736  0.65028784]\n",
      " [-0.28790332 -0.96139749 -0.75098725  0.14987721]]\n",
      "\n",
      "Index of the maxima for each series : \n",
      "[2 0 3 1]\n",
      "\n",
      "Times corresponding to the maxima :\n",
      "time values in the indices : \n",
      "[ 82.5   20.   113.75  51.25]\n",
      "\n",
      "data max : \n",
      "[0.98935825 0.84147098 0.99060736 0.6569866 ]\n",
      "\n",
      "True\n"
     ]
    }
   ],
   "source": [
    "\"\"\"\n",
    "Another common use of indexing with arrays is \n",
    "the search of the maximum value of time-dependent\n",
    "series:\n",
    "\"\"\"\n",
    "time = np.linspace(20,145,5)#time scale\n",
    "#4 time dependent series.\n",
    "data = np.sin(np.arange(20).reshape(5,4))\n",
    "print(\"Time : \\n{}\".format(time))\n",
    "print(\"Data : \\n{}\".format(data))\n",
    "print()\n",
    "print(\"Index of the maxima for each series : \")\n",
    "ind = data.argmax(axis=0)\n",
    "#axis 0 is column so returns an array of rows \n",
    "#with max value, Searches column by column and \n",
    "#returns row num as indices. \n",
    "print(ind)\n",
    "print()\n",
    "print(\"Times corresponding to the maxima :\")\n",
    "time_max = time[ind]\n",
    "print(\"time values in the indices : \\n{}\".format(time_max))\n",
    "print()\n",
    "data_max = data[ind , range(data.shape[1])]\n",
    "#=> data[ind[0],0], data[ind[1],1]...(row , column)\n",
    "print(\"data max : \\n{}\".format(data_max))\n",
    "print()\n",
    "print(np.all(data_max == data.max(axis=0)))\n",
    "# ndarray.argmax returns array of index based on axis\n",
    "# ndarray.max returns array of max value based on axis\n",
    "# similar for min , argmin , min\n"
   ]
  },
  {
   "cell_type": "code",
   "execution_count": 66,
   "metadata": {},
   "outputs": [
    {
     "name": "stdout",
     "output_type": "stream",
     "text": [
      "actual\n",
      "[0 1 2 3 4]\n",
      "\n",
      "indexed : \n",
      "[0 0 2 0 0]\n",
      "\n",
      "Also : \n",
      "indexed again : \n",
      "[0 4 2 4 4]\n"
     ]
    }
   ],
   "source": [
    "#You can also use indexing with arrays as a \n",
    "#target to assign to:\n",
    "a = np.arange(5)\n",
    "print(\"actual\")\n",
    "print(a)\n",
    "# [1,3,4] array of index \n",
    "a[[1,3,4]] = 0#index for first dim  \n",
    "print()\n",
    "print(\"indexed : \\n{}\".format(a))\n",
    "print()\n",
    "print(\"Also : \")\n",
    "i = [1,3,4]\n",
    "a[i] = 4\n",
    "print(\"indexed again : \\n{}\".format(a))"
   ]
  },
  {
   "cell_type": "code",
   "execution_count": 68,
   "metadata": {},
   "outputs": [
    {
     "name": "stdout",
     "output_type": "stream",
     "text": [
      "actual : \n",
      "[0 1 2 3 4]\n",
      "\n",
      "Indexed multiple times : \n",
      "[2 1 2 3 4]\n"
     ]
    }
   ],
   "source": [
    "\"\"\"\n",
    "However, when the list of indices contains \n",
    "repetitions, the assignment is done several times,\n",
    "leaving behind the last value:\n",
    "\"\"\"\n",
    "a = np.arange(5)\n",
    "print(\"actual : \\n{}\".format(a))\n",
    "print()\n",
    "#indexing same index multiple times\n",
    "a[[0,0,3]] = [1,2,3]\n",
    "print(\"Indexed multiple times : \\n{}\".format(a))"
   ]
  },
  {
   "cell_type": "code",
   "execution_count": null,
   "metadata": {},
   "outputs": [],
   "source": []
  }
 ],
 "metadata": {
  "kernelspec": {
   "display_name": "Python 3",
   "language": "python",
   "name": "python3"
  },
  "language_info": {
   "codemirror_mode": {
    "name": "ipython",
    "version": 3
   },
   "file_extension": ".py",
   "mimetype": "text/x-python",
   "name": "python",
   "nbconvert_exporter": "python",
   "pygments_lexer": "ipython3",
   "version": "3.7.7"
  }
 },
 "nbformat": 4,
 "nbformat_minor": 4
}
