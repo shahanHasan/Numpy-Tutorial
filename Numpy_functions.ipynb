{
 "cells": [
  {
   "cell_type": "code",
   "execution_count": 59,
   "metadata": {},
   "outputs": [
    {
     "name": "stdout",
     "output_type": "stream",
     "text": [
      "[[ 0  1  2  3  4]\n",
      " [ 5  6  7  8  9]\n",
      " [10 11 12 13 14]]\n",
      "(3, 5)\n",
      "2\n",
      "int64\n",
      "8\n",
      "<memory at 0x7f6213944750>\n",
      "15\n",
      "<class 'numpy.ndarray'>\n"
     ]
    },
    {
     "data": {
      "text/plain": [
       "numpy.ndarray"
      ]
     },
     "execution_count": 59,
     "metadata": {},
     "output_type": "execute_result"
    }
   ],
   "source": [
    "import numpy as np\n",
    "\"\"\"\n",
    "NumPy’s main object is the homogeneous multidimensional array. It is a table of elements (usually numbers), \n",
    "all of the same type, indexed by a tuple of non-negative integers. In NumPy dimensions are called axes.\n",
    "the array has 2 axes. The first axis has a length of 2, the second axis has a length of 3.\n",
    "e.g \n",
    "[[ 1., 0., 0.],\n",
    " [ 0., 1., 2.]]\n",
    "NumPy’s array class is called ndarray. It is also known by the alias array. Note that numpy.array is not the \n",
    "same as the Standard Python Library class array.array, which only handles one-dimensional arrays and offers less \n",
    "functionality. The more important attributes of an ndarray object are:\n",
    "\"\"\"\n",
    "a = np.arange(15).reshape(3,5)#arange an array of 15 random numbers. Reshape (row,column)\n",
    "print(a)\n",
    "print(a.shape) #returns shape of the ndarray , (row,column).\n",
    "print(a.ndim) # n dimentions. \n",
    "print(a.dtype.name) # data type of the elements of the array.\n",
    "print(a.itemsize) #the size in bytes of each element of the array.\n",
    "print(a.data) #the buffer containing the actual elements of the array ADDRESS in memory.\n",
    "print(a.size) #number of elements of row * column.\n",
    "print(type(a))\n",
    "b = np.array([5,6,7])\n",
    "type(b)"
   ]
  },
  {
   "cell_type": "code",
   "execution_count": 60,
   "metadata": {},
   "outputs": [
    {
     "name": "stdout",
     "output_type": "stream",
     "text": [
      "[[1.4 2.  5. ]\n",
      " [5.  6.  7. ]\n",
      " [1.  2.  3. ]]\n",
      "[list([7, 8]) list([[1, 2], [3, 4], [5, 6]])]\n",
      "\n",
      "\n",
      "[[[1 2 3]\n",
      "  [1 2 3]\n",
      "  [1 2 3]\n",
      "  [1 2 3]]]\n",
      "(1, 4, 3)\n",
      "3\n",
      "int64\n",
      "8\n",
      "<memory at 0x7f621420bc50>\n",
      "12\n",
      "<class 'numpy.ndarray'>\n"
     ]
    }
   ],
   "source": [
    "import numpy as np\n",
    "#Array Creation\n",
    "\"\"\"\n",
    "For example, you can create an array from a regular Python list or tuple using the array function. \n",
    "The type of the resulting array is deduced from the type of the elements in the sequences.\n",
    "\"\"\"\n",
    "a = np.array([2,3,4])\n",
    "a.dtype\n",
    "b = np.array([1.2,3.5,5.1])\n",
    "b.dtype\n",
    "\"\"\"\n",
    "array transforms sequences of sequences into two-dimensional arrays, sequences of sequences of \n",
    "sequences into three-dimensional arrays, and so on\n",
    "\"\"\"\n",
    "b =  np.array([[1.4,2,5],[5,6,7], [1,2,3]])\n",
    "b.dtype\n",
    "print(b)\n",
    "#The type of the array can also be explicitly specified at creation time:\n",
    "c = np.array([[1,2],[3,4]], dtype = complex)\n",
    "c\n",
    "\"\"\"\n",
    "VisibleDeprecationWarning: Creating an ndarray from ragged nested sequences (which is a list-or-tuple of lists\n",
    "-or-tuples-or ndarrays with different lengths or shapes) is deprecated. If you meant to do this, you must \n",
    "specify 'dtype=object' when creating the ndarray\n",
    "\"\"\"\n",
    "b = np.array([[7,8],[[1,2],[3,4],[5,6]]],dtype = object)\n",
    "print(b)\n",
    "print(\"\\n\")\n",
    "#3D array \"here\n",
    "a = np.array([[[1,2,3],[1,2,3],[1,2,3],[1,2,3]]])\n",
    "print(a)\n",
    "\n",
    "print(a.shape) #returns shape of the ndarray , (...depth,row,column).\n",
    "print(a.ndim) # n dimentions. \n",
    "print(a.dtype.name) # data type of the elements of the array.\n",
    "print(a.itemsize) #the size in bytes of each element of the array.\n",
    "print(a.data) #the buffer containing the actual elements of the array ADDRESS in memory.\n",
    "print(a.size) #number of elements of row * column.\n",
    "print(type(a))"
   ]
  },
  {
   "cell_type": "code",
   "execution_count": 61,
   "metadata": {},
   "outputs": [
    {
     "name": "stdout",
     "output_type": "stream",
     "text": [
      "[[[1 1 1 1]\n",
      "  [1 1 1 1]\n",
      "  [1 1 1 1]]\n",
      "\n",
      " [[1 1 1 1]\n",
      "  [1 1 1 1]\n",
      "  [1 1 1 1]]]\n",
      "\n",
      "\n",
      "[[  0. 100. 200.]\n",
      " [300. 400. 500.]]\n",
      "<class 'numpy.ndarray'>\n",
      "<class 'numpy.ndarray'>\n"
     ]
    }
   ],
   "source": [
    "import numpy as np\n",
    "from numpy import pi\n",
    "\"\"\"\n",
    "Often, the elements of an array are originally unknown,\n",
    "but its size is known. Hence, NumPy offers several \n",
    "functions to create arrays with initial placeholder \n",
    "content. These minimize the necessity of growing \n",
    "arrays, an expensive operation.\n",
    "\n",
    "The function zeros creates an array full of zeros, \n",
    "the function ones creates an array full of ones, and \n",
    "the function empty creates an array whose initial content is random and \n",
    "depends on the state of the memory. \n",
    "By default, the dtype of the created array is float64.\n",
    "\"\"\"\n",
    "a = np.zeros((3, 4))#2D , rows(y), columns(x)\n",
    "#print(a)\n",
    "b = np.ones((2,3,4), dtype=np.int16)#3D depth(z), row(y), column(x)\n",
    "print(b)\n",
    "print(\"\\n\")\n",
    "b_1 = np.ones((3,2,3,4), dtype=np.int16)\n",
    "#print(b_1)\n",
    "c = np.empty((2,3))# uninitialized\n",
    "print(c)#2D\n",
    "\n",
    "\"\"\"\n",
    "To create sequences of numbers, NumPy provides \n",
    "the arange function which is analogous to the \n",
    "Python built-in range, but returns an array.\n",
    "\"\"\"\n",
    "np.arange(10,30,5)#start , stop , step\n",
    "np.arange(0, 2 ,0.3)# it accepts float arguments\n",
    "\"\"\"\n",
    "When arange is used with floating point arguments, it is generally not \n",
    "possible to predict the number of elements obtained, due to the finite \n",
    "floating point precision. For this reason, it is usually better to use \n",
    "the function linspace that receives as an argument the number of elements \n",
    "that we want, instead of the step.\n",
    "\"\"\"\n",
    "np.linspace(0,2,9)# 9 numbers from 0 to 2\n",
    "x = np.linspace(0, 2*pi, 100)#useful to evaluate function at lots of points\n",
    "print(type(x))\n",
    "f = np.sin(x)\n",
    "print(type(f))"
   ]
  },
  {
   "cell_type": "code",
   "execution_count": 62,
   "metadata": {},
   "outputs": [
    {
     "name": "stdout",
     "output_type": "stream",
     "text": [
      "[0 1 2 3 4 5]\n",
      "\n",
      "[[ 0  1  2]\n",
      " [ 3  4  5]\n",
      " [ 6  7  8]\n",
      " [ 9 10 11]]\n",
      "\n",
      "[[[ 0  1  2]\n",
      "  [ 3  4  5]\n",
      "  [ 6  7  8]\n",
      "  [ 9 10 11]]\n",
      "\n",
      " [[12 13 14]\n",
      "  [15 16 17]\n",
      "  [18 19 20]\n",
      "  [21 22 23]]]\n",
      "\n",
      "[[[[ 0  1  2]\n",
      "   [ 3  4  5]\n",
      "   [ 6  7  8]\n",
      "   [ 9 10 11]]\n",
      "\n",
      "  [[12 13 14]\n",
      "   [15 16 17]\n",
      "   [18 19 20]\n",
      "   [21 22 23]]]\n",
      "\n",
      "\n",
      " [[[24 25 26]\n",
      "   [27 28 29]\n",
      "   [30 31 32]\n",
      "   [33 34 35]]\n",
      "\n",
      "  [[36 37 38]\n",
      "   [39 40 41]\n",
      "   [42 43 44]\n",
      "   [45 46 47]]]]\n"
     ]
    }
   ],
   "source": [
    "#Printing arrays\n",
    "\"\"\"\n",
    "When you print an array, NumPy displays it in a similar way to nested \n",
    "lists, but with the following layout:\n",
    "\n",
    "1. The last axis is printed from left to right,\n",
    "\n",
    "2. The second-to-last is printed from top to bottom,\n",
    "\n",
    "3. The rest are also printed from top to bottom, with each slice separated \n",
    "from the next by an empty line.\n",
    "\"\"\"\n",
    "#One-dimensional arrays are then printed as rows, bidimensionals as matrices and tridimensionals as lists of matrices.\n",
    "a = np.arange(6) #1D array as list\n",
    "print(a)\n",
    "print()\n",
    "b = np.arange(12).reshape(4,3) #2D array as matrices\n",
    "print(b)\n",
    "print()\n",
    "\n",
    "c = np.arange(24).reshape(2,4,3) #3D array as list of matrices\n",
    "print(c)\n",
    "print()\n",
    "\n",
    "d = np.arange(48).reshape(2,2,4,3) #4D or more as list of list of matrices\n",
    "print(d)"
   ]
  },
  {
   "cell_type": "code",
   "execution_count": 63,
   "metadata": {},
   "outputs": [
    {
     "name": "stdout",
     "output_type": "stream",
     "text": [
      "[   0    1    2 ... 9997 9998 9999]\n",
      "[[   0    1    2 ...   97   98   99]\n",
      " [ 100  101  102 ...  197  198  199]\n",
      " [ 200  201  202 ...  297  298  299]\n",
      " ...\n",
      " [9700 9701 9702 ... 9797 9798 9799]\n",
      " [9800 9801 9802 ... 9897 9898 9899]\n",
      " [9900 9901 9902 ... 9997 9998 9999]]\n"
     ]
    }
   ],
   "source": [
    "\"\"\"\n",
    "If an array is too large to be printed, NumPy automatically skips the central part of \n",
    "the array and only prints the corners:\n",
    "\"\"\"\n",
    "print(np.arange(10000))\n",
    "print(np.arange(10000).reshape(100,100))\n",
    "#print(np.arange(1000000).reshape(100,100,100))\n",
    "\"\"\"\n",
    "To disable this behaviour and force NumPy to print the entire array, you can change the printing \n",
    "options using set_printoptions.\n",
    "\"\"\"\n",
    "import sys\n",
    "#np.set_printoptions(threshold=sys.maxsize)"
   ]
  },
  {
   "cell_type": "code",
   "execution_count": 64,
   "metadata": {},
   "outputs": [
    {
     "name": "stdout",
     "output_type": "stream",
     "text": [
      "[20 30 40 50]\n",
      "[0 1 2 3]\n",
      "[20 29 38 47]\n",
      "[20 31 42 53]\n",
      "[ 400  900 1600 2500]\n",
      "[ 2.23716094 -6.4053312  -1.11721493 -0.27190061]\n",
      "[ 2.23716094 -6.4053312  -1.11721493 -0.27190061]\n"
     ]
    },
    {
     "data": {
      "text/plain": [
       "array([ True,  True, False, False])"
      ]
     },
     "execution_count": 64,
     "metadata": {},
     "output_type": "execute_result"
    }
   ],
   "source": [
    "#array returns a list as ndarray\n",
    "a = np.array([20,30,40,50])\n",
    "print(a)\n",
    "#arange returns an nd array of parameter size\n",
    "b = np.arange(4)\n",
    "print(b)\n",
    "\n",
    "subT = a-b\n",
    "print(subT)\n",
    "ADDT = a+b\n",
    "print(ADDT)\n",
    "poweR = a**2\n",
    "print(poweR)\n",
    "TrigRatios = (10*np.sin(a))/(10*np.cos(a))\n",
    "print(TrigRatios)\n",
    "tan_a = np.tan(a)\n",
    "print(tan_a)\n",
    "\n",
    "a<34"
   ]
  },
  {
   "cell_type": "code",
   "execution_count": 65,
   "metadata": {},
   "outputs": [
    {
     "name": "stdout",
     "output_type": "stream",
     "text": [
      "[[2 0]\n",
      " [0 4]]\n",
      "[[5 4]\n",
      " [3 4]]\n",
      "[[5 4]\n",
      " [3 4]]\n"
     ]
    }
   ],
   "source": [
    "\"\"\"\n",
    "MATRIX CALCULATION\n",
    "\n",
    "Unlike in many matrix languages, the product operator * operates elementwise in NumPy\n",
    "arrays. The matrix product can be performed using the @ operator (in python >=3.5) or \n",
    "the dot function or method:\n",
    "\"\"\"\n",
    "\n",
    "a = np.array([ [1,1],\n",
    "               [0,1] ])\n",
    "b = np.array([ [2,0],\n",
    "               [3,4] ])\n",
    "Element_wise_multiplication = a * b\n",
    "print(Element_wise_multiplication)\n",
    "Matrix_product = a @ b\n",
    "print(Matrix_product)\n",
    "Matrix_dot_product = a.dot(b)\n",
    "print(Matrix_dot_product)"
   ]
  },
  {
   "cell_type": "code",
   "execution_count": 66,
   "metadata": {},
   "outputs": [
    {
     "name": "stdout",
     "output_type": "stream",
     "text": [
      "Generator(PCG64)\n",
      "<class 'numpy.random._generator.Generator'>\n",
      "[[1 1 1]\n",
      " [1 1 1]]\n",
      "<class 'numpy.ndarray'>\n",
      "int32\n",
      "[[0.51182162 0.9504637  0.14415961]\n",
      " [0.94864945 0.31183145 0.42332645]]\n",
      "<class 'numpy.ndarray'>\n",
      "float64\n",
      "(2, 3),2\n",
      "(2, 3), 2\n",
      "[[3 3 3]\n",
      " [3 3 3]]\n",
      "[[3.51182162 3.9504637  3.14415961]\n",
      " [3.94864945 3.31183145 3.42332645]]\n",
      "[[6.51182162 6.9504637  6.14415961]\n",
      " [6.94864945 6.31183145 6.42332645]]\n"
     ]
    }
   ],
   "source": [
    "\"\"\"\n",
    "Some operations, such as += and *=, act in place to modify an existing\n",
    "array rather than create a new one.\n",
    "\"\"\"\n",
    "#Create instance of default random number generator\n",
    "random_generator = np.random.default_rng(1)\n",
    "print(random_generator)\n",
    "print(type(random_generator))\n",
    "a = np.ones((2,3), dtype=np.int32)\n",
    "print(a)\n",
    "print(type(a))\n",
    "print(a.dtype)\n",
    "b = random_generator.random((2,3))\n",
    "print(b)\n",
    "print(type(b))\n",
    "print(b.dtype)\n",
    "\n",
    "print(\"{},{}\".format(a.shape,a.ndim)) #Format()\n",
    "print(f\"{b.shape}, {b.ndim}\")#F String\n",
    "\n",
    "#Assignment operators:\n",
    "a *= 3\n",
    "b += a \n",
    "print(a)\n",
    "print(b)\n",
    "print(f\"{b + a}\")"
   ]
  },
  {
   "cell_type": "code",
   "execution_count": 67,
   "metadata": {},
   "outputs": [
    {
     "name": "stdout",
     "output_type": "stream",
     "text": [
      "<class 'numpy.ndarray'> <class 'numpy.ndarray'>\n",
      "float64\n",
      "\n",
      "[1.         2.57079633 4.14159265]\n",
      "\n",
      "[0.+1.j         0.+2.57079633j 0.+4.14159265j]\n",
      "\n",
      "<class 'numpy.ndarray'> float64\n",
      "<class 'numpy.ndarray'> complex128\n",
      "[ 0.54030231+0.84147098j -0.84147098+0.54030231j -0.54030231-0.84147098j]\n"
     ]
    }
   ],
   "source": [
    "#UPCASTING\n",
    "\"\"\"\n",
    "When operating with arrays of different types, the type of \n",
    "the resulting array corresponds to the more\n",
    "general or precise one (a behavior known as upcasting).\n",
    "\"\"\"\n",
    "import math\n",
    "a = np.ones(3, dtype=np.int32) #column, dtype\n",
    "b = np.linspace(0, math.pi ,3)\n",
    "print(f\"{type(a)} {type(b)}\")\n",
    "print(b.dtype.name)\n",
    "\n",
    "c = a+b\n",
    "\n",
    "d = c * 1j\n",
    "print()\n",
    "print(c)\n",
    "print()\n",
    "print(d)\n",
    "print()\n",
    "print(f\"{type(c)} {c.dtype.name}\")\n",
    "print(f\"{type(d)} {d.dtype.name}\")\n",
    "\n",
    "#An array with exponential of all elements of input array.\n",
    "#numpy.exp(array, out = None, where = True, casting = ‘same_kind’, order = ‘K’, dtype = None) :\n",
    "\n",
    "d = np.exp(d)\n",
    "print(d)"
   ]
  },
  {
   "cell_type": "code",
   "execution_count": 68,
   "metadata": {},
   "outputs": [
    {
     "name": "stdout",
     "output_type": "stream",
     "text": [
      "[[0.82770259 0.40919914 0.54959369]\n",
      " [0.02755911 0.75351311 0.53814331]] \n",
      "<class 'numpy.ndarray'> float64\n",
      "3.1057109529998157\n",
      "0.027559113243068367\n",
      "0.8277025938204418\n",
      "[[ 0  1  2  3]\n",
      " [ 4  5  6  7]\n",
      " [ 8  9 10 11]]\n",
      "\n",
      "[12 15 18 21]\n",
      "[0 1 2 3] [ 8  9 10 11]\n",
      "\n",
      "[ 6 22 38]\n",
      "[0 4 8] [ 3  7 11]\n",
      "\n",
      "[[ 0  1  3  6]\n",
      " [ 4  9 15 22]\n",
      " [ 8 17 27 38]]\n",
      "\n",
      "[[ 0  1  2  3]\n",
      " [ 4  6  8 10]\n",
      " [12 15 18 21]]\n"
     ]
    }
   ],
   "source": [
    "\"\"\"\n",
    "Many unary operations, such as computing the sum of all the elements \n",
    "in the array, are implemented as methods of the ndarray class.\n",
    "\"\"\"\n",
    "a = random_generator.random((2,3))\n",
    "print(f\"{a} \\n{type(a)} {a.dtype.name}\")\n",
    "\n",
    "#SUM\n",
    "print(a.sum())\n",
    "\n",
    "#MIN\n",
    "print(a.min())\n",
    "\n",
    "#MAX\n",
    "print(a.max())\n",
    "\n",
    "\n",
    "\"\"\"\n",
    "By default, these operations apply to the array as though it were a list of numbers, regardless of its \n",
    "shape. However, by specifying the axis parameter you can apply an operation along the specified axis \n",
    "of an array:\n",
    "\"\"\"\n",
    "b =np.arange(12).reshape(3,4)\n",
    "print(b)\n",
    "print()\n",
    "\n",
    "#SUM,MIN,MAX... ALONG COLUMN\n",
    "print(b.sum(axis=0))\n",
    "print(f\"{b.min(axis=0)} {b.max(axis=0)}\")\n",
    "print()\n",
    "\n",
    "#SUM,MIN,MAX.... ALONG ROW\n",
    "print(b.sum(axis=1))\n",
    "print(f\"{b.min(axis=1)} {b.max(axis=1)}\")\n",
    "print()\n",
    "\n",
    "#CUMULATIVE SUM ALONG MENTIONED AXIS\n",
    "print(b.cumsum(axis=1))\n",
    "print()\n",
    "print(b.cumsum(axis=0))"
   ]
  },
  {
   "cell_type": "code",
   "execution_count": 69,
   "metadata": {},
   "outputs": [
    {
     "name": "stdout",
     "output_type": "stream",
     "text": [
      "[0 1 2]\n",
      "\n",
      "[1.         2.71828183 7.3890561 ] \n",
      "[0.         1.         1.41421356] \n",
      "[ 1 -3 10]\n"
     ]
    },
    {
     "data": {
      "text/plain": [
       "'\\nOTHER UFUNCS INCLUDE :\\n\\nall, any, apply_along_axis, argmax, argmin, argsort, \\naverage, bincount, ceil, clip, conj, corrcoef, cov, \\ncross, cumprod, cumsum, diff, dot, floor, inner, \\ninvert, lexsort, max, maximum, mean, median, min, \\nminimum, nonzero, outer, prod, re, round, sort, std, \\nsum, trace, transpose, var, vdot, vectorize, where\\n\\nhttps://numpy.org/devdocs/user/quickstart.html#quickstart-shape-manipulation\\n'"
      ]
     },
     "execution_count": 69,
     "metadata": {},
     "output_type": "execute_result"
    }
   ],
   "source": [
    "#UNIVERSAL FUNCTIONS ->\n",
    "\"\"\"\n",
    "NumPy provides familiar mathematical functions such as sin, cos, and exp.\n",
    "In NumPy, these are called “universal functions”(ufunc). Within NumPy, these \n",
    "functions operate elementwise on an array, producing an array as output.\n",
    "\"\"\"\n",
    "b = np.arange(3)\n",
    "c = np.array([1,-4,8])\n",
    "print(b)\n",
    "print()\n",
    "print(f\"{np.exp(b)} \\n{np.sqrt(b)} \\n{np.add(b,c)}\")\n",
    "\n",
    "\"\"\"\n",
    "OTHER UFUNCS INCLUDE :\n",
    "\n",
    "all, any, apply_along_axis, argmax, argmin, argsort, \n",
    "average, bincount, ceil, clip, conj, corrcoef, cov, \n",
    "cross, cumprod, cumsum, diff, dot, floor, inner, \n",
    "invert, lexsort, max, maximum, mean, median, min, \n",
    "minimum, nonzero, outer, prod, re, round, sort, std, \n",
    "sum, trace, transpose, var, vdot, vectorize, where\n",
    "\n",
    "https://numpy.org/devdocs/user/quickstart.html#quickstart-shape-manipulation\n",
    "\"\"\""
   ]
  },
  {
   "cell_type": "code",
   "execution_count": 70,
   "metadata": {},
   "outputs": [
    {
     "name": "stdout",
     "output_type": "stream",
     "text": [
      "[  0   1   8  27  64 125 216 343 512 729]\n",
      "8\n",
      "[ 8 27 64]\n",
      "[1000    1 1000   27 1000  125  216  343  512  729]\n",
      "[ 729  512  343  216  125 1000   27 1000    1 1000]\n",
      "9.999999999999998\n",
      "1.0\n",
      "9.999999999999998\n",
      "3.0\n",
      "9.999999999999998\n",
      "4.999999999999999\n",
      "5.999999999999999\n",
      "6.999999999999999\n",
      "7.999999999999999\n",
      "8.999999999999998\n"
     ]
    }
   ],
   "source": [
    "\"\"\"\n",
    "Indexing, Slicing and Iterating\n",
    "One-dimensional arrays can be indexed, sliced and iterated over, much like \n",
    "lists and other Python sequences.\n",
    "\"\"\"\n",
    "a = np.arange(10)**3\n",
    "print(a)\n",
    "print(a[2])\n",
    "print(a[2:5])\n",
    "# equivalent to a[0:6:2] = 1000;\n",
    "# from start to position 6, exclusive, set every 2nd element to 1000\n",
    "a[:6:2] = 1000\n",
    "print(a)\n",
    "print(a[ : :-1])#Reversed\n",
    "for i in a:\n",
    "    print(i**(1/3.))"
   ]
  },
  {
   "cell_type": "code",
   "execution_count": 71,
   "metadata": {
    "scrolled": false
   },
   "outputs": [
    {
     "name": "stdout",
     "output_type": "stream",
     "text": [
      "[[ 0  1  2  3]\n",
      " [10 11 12 13]\n",
      " [20 21 22 23]\n",
      " [30 31 32 33]\n",
      " [40 41 42 43]]\n",
      "13\n",
      "[ 1 11 21 31 41]\n",
      "[ 1 11 21 31 41]\n",
      "\n",
      "[[10 11 12 13]\n",
      " [20 21 22 23]]\n",
      "\n",
      "[40 41 42 43]\n"
     ]
    }
   ],
   "source": [
    "\"\"\"\n",
    "Multidimensional arrays can have one index per axis. \n",
    "These indices are given in a tuple separated by commas:\n",
    "\"\"\"\n",
    "def f(x,y):\n",
    "    return 10*x+y\n",
    "\n",
    "b = np.fromfunction(f,(5,4), dtype=int)\n",
    "print(b)\n",
    "print(b[1,3])\n",
    "print(b[0:5, 1]) ## each row in the second column of b\n",
    "print(b[:,1]) ## equivalent to the previous example\n",
    "print()\n",
    "print(b[1:3,:])# each column in the second and third row of b\n",
    "\n",
    "#When fewer indices are provided than the number of axes, the missing \n",
    "#indices are considered complete slices:\n",
    "print()\n",
    "print(b[-1])## the last row. Equivalent to b[-1,:]\n"
   ]
  },
  {
   "cell_type": "code",
   "execution_count": 72,
   "metadata": {},
   "outputs": [
    {
     "name": "stdout",
     "output_type": "stream",
     "text": [
      "(2, 2, 3)\n",
      "[[100 101 102]\n",
      " [110 112 113]]\n",
      "[[  2  13]\n",
      " [102 113]]\n"
     ]
    }
   ],
   "source": [
    "\"\"\"\n",
    "The expression within brackets in b[i] is treated as an i followed by as many instances of :\n",
    "as needed to represent the remaining axes. NumPy also allows you to write this using dots \n",
    "as b[i,...].\n",
    "\n",
    "NumPy also allows you to write this using dots as b[i,...].\n",
    "\n",
    "The dots (...) represent as many colons as needed to produce a complete indexing tuple. For \n",
    "example, if x is an array with 5 axes, then\n",
    "\n",
    "x[1,2,...] is equivalent to x[1,2,:,:,:],\n",
    "\n",
    "x[...,3] to x[:,:,:,:,3] and\n",
    "\n",
    "x[4,...,5,:] to x[4,:,:,5,:].\n",
    "\"\"\"\n",
    "\n",
    "c = np.array( [[[  0,  1,  2],# a 3D array (two stacked 2D arrays)\n",
    "                [ 10, 12, 13]],\n",
    "               \n",
    "               [[100,101,102],\n",
    "                [110,112,113]]])\n",
    "print(c.shape)\n",
    "print(c[1,...])# same as c[1,:,:] or c[1]\n",
    "print(c[...,2]) # same as c[:,:,2]\n"
   ]
  },
  {
   "cell_type": "code",
   "execution_count": 73,
   "metadata": {},
   "outputs": [
    {
     "name": "stdout",
     "output_type": "stream",
     "text": [
      "[0 1 2 3]\n",
      "[10 11 12 13]\n",
      "[20 21 22 23]\n",
      "[30 31 32 33]\n",
      "[40 41 42 43]\n",
      "\n",
      "0\n",
      "1\n",
      "2\n",
      "3\n",
      "10\n",
      "11\n",
      "12\n",
      "13\n",
      "20\n",
      "21\n",
      "22\n",
      "23\n",
      "30\n",
      "31\n",
      "32\n",
      "33\n",
      "40\n",
      "41\n",
      "42\n",
      "43\n"
     ]
    }
   ],
   "source": [
    "#Iterating over multidimensional arrays is done with respect to the first axis:\n",
    "for row in b:\n",
    "    print(row)\n",
    "print()\n",
    "#However, if one wants to perform an operation on each element in the array, one can \n",
    "#use the flat attribute which is an iterator over all the elements of the array:  \n",
    "\n",
    "for element in b.flat:\n",
    "    print(element)"
   ]
  },
  {
   "cell_type": "code",
   "execution_count": 81,
   "metadata": {},
   "outputs": [
    {
     "name": "stdout",
     "output_type": "stream",
     "text": [
      "[[9. 7. 5. 2.]\n",
      " [1. 9. 5. 1.]\n",
      " [6. 7. 6. 9.]]\n",
      "(3, 4)\n",
      "\n",
      "[9. 7. 5. 2. 1. 9. 5. 1. 6. 7. 6. 9.]\n",
      "(12,)\n",
      "\n",
      "[[9. 7.]\n",
      " [5. 2.]\n",
      " [1. 9.]\n",
      " [5. 1.]\n",
      " [6. 7.]\n",
      " [6. 9.]]\n",
      "\n",
      "[[9. 1. 6.]\n",
      " [7. 9. 7.]\n",
      " [5. 5. 6.]\n",
      " [2. 1. 9.]]\n",
      "\n",
      "(4, 3)\n",
      "(3, 4)\n"
     ]
    }
   ],
   "source": [
    "#Shape Manipulation\n",
    "\"\"\"\n",
    "Changing the shape of an array.\n",
    "An array has a shape given by the number of elements along each axis:\n",
    "\"\"\"\n",
    "a = np.floor(10*random_generator.random((3,4)))\n",
    "print(a)\n",
    "print(a.shape)\n",
    "print()\n",
    "#The shape of an array can be changed with various commands. \n",
    "#Note that the following three commands all return a modified array,\n",
    "#but do not change the original array:\n",
    "\n",
    "print(a.ravel())#returns the array, flattened\n",
    "print(a.ravel().shape)\n",
    "print()\n",
    "print(a.reshape(6,2))#returns the array with a modified shape\n",
    "print()\n",
    "print(a.T)#returns the array transposed\n",
    "print()\n",
    "print(a.T.shape)\n",
    "print(a.shape)"
   ]
  },
  {
   "cell_type": "code",
   "execution_count": 75,
   "metadata": {},
   "outputs": [
    {
     "data": {
      "text/plain": [
       "'\\nWhy Numpy ? \\nAns: Numpy is faster compared to lists\\n1. Numpy array have int data type that is specified\\nfor e.g : int16 int8 etc ,basically dtype\\n2. Lists have their own object value, object type, \\nreference count and size, That roughly makes the objects \\nof lists large/ More bytes of memory as everything is in binary .\\n3. Reading data from numpy array is quicker in that aspect.\\n4. No type checking when iterating through numpy array, makes it\\nfaster. Lists have type checking as they may have all datatype obj\\nwithin the list\\n5. Numpy uses Contiguous memory. Meaning :\\nALl the objects of numpy array are stored in memory side by side \\nnext to eachother.\\nList objects are stored in different locations of memory.Objects with \\npointer to next object value is stored within the memory cells.\\n'"
      ]
     },
     "execution_count": 75,
     "metadata": {},
     "output_type": "execute_result"
    }
   ],
   "source": [
    "\"\"\"\n",
    "Why Numpy ? \n",
    "Ans: Numpy is faster compared to lists\n",
    "1. Numpy array have int data type that is specified\n",
    "for e.g : int16 int8 etc ,basically dtype\n",
    "2. Lists have their own object value, object type, \n",
    "reference count and size, That roughly makes the objects \n",
    "of lists large/ More bytes of memory as everything is in binary .\n",
    "3. Reading data from numpy array is quicker in that aspect.\n",
    "4. No type checking when iterating through numpy array, makes it\n",
    "faster. Lists have type checking as they may have all datatype obj\n",
    "within the list\n",
    "5. Numpy uses Contiguous memory. Meaning :\n",
    "ALl the objects of numpy array are stored in memory side by side \n",
    "next to eachother.\n",
    "List objects are stored in different locations of memory.Objects with \n",
    "pointer to next object value is stored within the memory cells.\n",
    "\"\"\""
   ]
  },
  {
   "cell_type": "code",
   "execution_count": 109,
   "metadata": {
    "scrolled": true
   },
   "outputs": [
    {
     "name": "stdout",
     "output_type": "stream",
     "text": [
      "[[9. 7. 5. 2.]\n",
      " [1. 9. 5. 1.]\n",
      " [6. 7. 6. 9.]]\n",
      "\n",
      "[[9. 7. 5. 2. 1. 9.]\n",
      " [5. 1. 6. 7. 6. 9.]]\n"
     ]
    }
   ],
   "source": [
    "a = np.array([[9.,7.,5.,2.],[1.,9.,5.,1.],[6.,7.,6.,9.]],dtype='float32')\n",
    "print(a)\n",
    "a.resize((2,6))#size where product = no of elements\n",
    "print()\n",
    "print(a)"
   ]
  },
  {
   "cell_type": "markdown",
   "metadata": {},
   "source": [
    "Ravel : returns the array Flattened,\n",
    "Reshape : returns the array reshaped based on the tuple .\n",
    "Transpose : Returns Transpose of the array/Matrix\n",
    "\n",
    "They do not change the array itself\n",
    "\n",
    "Mechanism: \n",
    "The order of the elements in the array resulting from ravel() is normally “C-style”, that is, the rightmost index “changes the fastest”, so the element after a[0,0] is a[0,1]. If the array is reshaped to some other shape, again the array is treated as “C-style”.NumPy normally creates arrays stored in this order, so ravel() will usually not need to copy its argument, but if the array was made by taking slices of another array or created with unusual options, it may need to be copied.\n",
    "\n",
    "\n",
    "Resize: Numpy resize function resizes the array itself."
   ]
  },
  {
   "cell_type": "code",
   "execution_count": 110,
   "metadata": {},
   "outputs": [
    {
     "name": "stdout",
     "output_type": "stream",
     "text": [
      "[[9. 7. 5. 2. 1. 9.]\n",
      " [5. 1. 6. 7. 6. 9.]]\n",
      "[[9. 7.]\n",
      " [5. 2.]\n",
      " [1. 9.]\n",
      " [5. 1.]\n",
      " [6. 7.]\n",
      " [6. 9.]]\n",
      "[[9. 7. 5. 2. 1. 9. 5. 1. 6. 7. 6. 9.]]\n",
      "[[9. 7. 5. 2. 1. 9. 5. 1. 6. 7. 6. 9.]]\n"
     ]
    }
   ],
   "source": [
    "print(a)\n",
    "a.resize((6,2))\n",
    "print(a)\n",
    "a.resize((1,12))\n",
    "print(a)\n",
    "a.ravel()\n",
    "print(a)"
   ]
  },
  {
   "cell_type": "code",
   "execution_count": 122,
   "metadata": {},
   "outputs": [
    {
     "name": "stdout",
     "output_type": "stream",
     "text": [
      "[[9. 7. 5. 2. 1. 9.]\n",
      " [5. 1. 6. 7. 6. 9.]]\n",
      "\n",
      "[[9. 7. 5. 2. 1. 9. 5. 1. 6. 7. 6. 9.]]\n",
      "\n",
      "[9. 7. 5. 2. 1. 9. 5. 1. 6. 7. 6. 9.]\n",
      "\n",
      "[[9. 7.]\n",
      " [5. 2.]\n",
      " [1. 9.]\n",
      " [5. 1.]\n",
      " [6. 7.]\n",
      " [6. 9.]]\n"
     ]
    }
   ],
   "source": [
    "#If a dimension is given as -1 in a reshaping operation, \n",
    "#the other dimensions are automatically calculated:\n",
    "a = np.array([[9.,7.,5.,2.],[1.,9.,5.,1.],[6.,7.,6.,9.]],dtype='float32')\n",
    "print(a.reshape(2,-1))\n",
    "print()\n",
    "print(a.reshape(1,-1))\n",
    "print()\n",
    "print(a.reshape(-1))\n",
    "print()\n",
    "print(a.reshape(6,-1))\n"
   ]
  },
  {
   "cell_type": "markdown",
   "metadata": {},
   "source": [
    "# See Also : \n",
    "###### ndarray.shape, reshape, resize, ravel"
   ]
  },
  {
   "cell_type": "markdown",
   "metadata": {},
   "source": [
    "### Stacking together different arrays\n",
    "###### Vstack Hstack column_stack\n",
    "###### Several arrays can be stacked together along different axes"
   ]
  },
  {
   "cell_type": "code",
   "execution_count": 149,
   "metadata": {},
   "outputs": [
    {
     "name": "stdout",
     "output_type": "stream",
     "text": [
      "[[1. 7.]\n",
      " [2. 1.]]\n",
      "[[0. 1.]\n",
      " [1. 5.]]\n",
      "\n",
      "[[1. 7. 0. 1.]\n",
      " [2. 1. 1. 5.]]\n",
      "\n",
      "[[1. 7.]\n",
      " [2. 1.]\n",
      " [0. 1.]\n",
      " [1. 5.]]\n",
      "Column Stack\n",
      "[[1. 7. 0. 1.]\n",
      " [2. 1. 1. 5.]]\n",
      "a -1D array\n",
      "[4. 2.]\n",
      "b -1D array\n",
      "[5. 6.]\n",
      "\n",
      "1D Column Stack\n",
      "[[4. 5.]\n",
      " [2. 6.]]\n",
      "\n",
      "1D Horizontal Stack\n",
      "[4. 2. 5. 6.]\n",
      "\n",
      "Visualize 1D array as column vectors\n",
      "[[4.]\n",
      " [2.]]\n",
      "[[5.]\n",
      " [6.]]\n",
      "\n",
      "Column stack column vectors :\n",
      "[[4. 5.]\n",
      " [2. 6.]]\n",
      "\n",
      "Horizontal Stack Column Vectors :\n",
      "[[4. 5.]\n",
      " [2. 6.]]\n"
     ]
    }
   ],
   "source": [
    "a = np.floor(10*random_generator.random((2,2)))\n",
    "print(a)\n",
    "b = np.floor(10*random_generator.random((2,2)))\n",
    "print(b)\n",
    "print()\n",
    "#Horizontal stack\n",
    "print(np.hstack((a,b)))\n",
    "print()\n",
    "#Vertical stack\n",
    "print(np.vstack((a,b)))\n",
    "\n",
    "#Column Stack :\n",
    "#The function column_stack stacks 1D arrays as columns into a 2D array.\n",
    "#It is equivalent to hstack only for 2D arrays:\n",
    "\n",
    "from numpy import newaxis\n",
    "columnStack = np.column_stack((a,b))# With 2D arrays\n",
    "print(\"Column Stack\")\n",
    "print(columnStack)\n",
    "a = np.array([4.,2.])\n",
    "b = np.array([5.,6.])\n",
    "print(\"a -1D array\")\n",
    "print(a)\n",
    "print(\"b -1D array\")\n",
    "print(b)\n",
    "print()\n",
    "oneD_Column_Stack = np.column_stack((a,b))#Column stack for 1D array\n",
    "print(\"1D Column Stack\")\n",
    "print(oneD_Column_Stack)\n",
    "print()\n",
    "H_stack_oneD = np.hstack((a,b))\n",
    "print(\"1D Horizontal Stack\")\n",
    "print(H_stack_oneD)\n",
    "print()\n",
    "#column vector\n",
    "print(\"Visualize 1D array as column vectors\")\n",
    "print(a[:,newaxis])#View a as a column vector\n",
    "print(b[:,newaxis])\n",
    "print()\n",
    "print(\"Column stack column vectors :\")\n",
    "print(np.column_stack((a[:,newaxis],b[:,newaxis])))\n",
    "print()\n",
    "print(\"Horizontal Stack Column Vectors :\")\n",
    "print(np.hstack((a[:,newaxis],b[:,newaxis])))"
   ]
  },
  {
   "cell_type": "markdown",
   "metadata": {},
   "source": [
    "#### the function row_stack is equivalent to vstack for any input arrays."
   ]
  },
  {
   "cell_type": "markdown",
   "metadata": {},
   "source": [
    "####  In fact, row_stack is an alias for vstack:"
   ]
  },
  {
   "cell_type": "code",
   "execution_count": 150,
   "metadata": {},
   "outputs": [
    {
     "data": {
      "text/plain": [
       "False"
      ]
     },
     "execution_count": 150,
     "metadata": {},
     "output_type": "execute_result"
    }
   ],
   "source": [
    "np.column_stack is np.hstack"
   ]
  },
  {
   "cell_type": "code",
   "execution_count": 151,
   "metadata": {},
   "outputs": [
    {
     "data": {
      "text/plain": [
       "True"
      ]
     },
     "execution_count": 151,
     "metadata": {},
     "output_type": "execute_result"
    }
   ],
   "source": [
    "np.row_stack is np.vstack"
   ]
  },
  {
   "cell_type": "code",
   "execution_count": null,
   "metadata": {},
   "outputs": [],
   "source": []
  }
 ],
 "metadata": {
  "kernelspec": {
   "display_name": "Python 3",
   "language": "python",
   "name": "python3"
  },
  "language_info": {
   "codemirror_mode": {
    "name": "ipython",
    "version": 3
   },
   "file_extension": ".py",
   "mimetype": "text/x-python",
   "name": "python",
   "nbconvert_exporter": "python",
   "pygments_lexer": "ipython3",
   "version": "3.7.7"
  }
 },
 "nbformat": 4,
 "nbformat_minor": 4
}
